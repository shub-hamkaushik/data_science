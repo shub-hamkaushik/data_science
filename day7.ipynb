{
 "cells": [
  {
   "cell_type": "code",
   "execution_count": 1,
   "id": "6a15f6b9-0cd5-4f05-9424-ddf95584440d",
   "metadata": {},
   "outputs": [],
   "source": [
    "##function"
   ]
  },
  {
   "cell_type": "code",
   "execution_count": 2,
   "id": "e8c4b955-d3f8-4f9f-86b2-380b9ab4ba48",
   "metadata": {},
   "outputs": [],
   "source": [
    "def test():\n",
    "    pass"
   ]
  },
  {
   "cell_type": "code",
   "execution_count": 4,
   "id": "18100111-fc24-4504-82a9-4b06d31c2b7c",
   "metadata": {},
   "outputs": [],
   "source": [
    "def test1():\n",
    "    print(\"this is my first fun\")"
   ]
  },
  {
   "cell_type": "code",
   "execution_count": 5,
   "id": "65b700eb-5cdf-4094-821d-644a7136c0b0",
   "metadata": {},
   "outputs": [
    {
     "name": "stdout",
     "output_type": "stream",
     "text": [
      "this is my first fun\n"
     ]
    }
   ],
   "source": [
    "test1()"
   ]
  },
  {
   "cell_type": "code",
   "execution_count": 8,
   "id": "348858c8-5f2d-4c02-95f6-eb28a791f6e6",
   "metadata": {},
   "outputs": [
    {
     "name": "stdout",
     "output_type": "stream",
     "text": [
      "this is my first fun\n"
     ]
    },
    {
     "ename": "TypeError",
     "evalue": "unsupported operand type(s) for +: 'NoneType' and 'str'",
     "output_type": "error",
     "traceback": [
      "\u001b[0;31m---------------------------------------------------------------------------\u001b[0m",
      "\u001b[0;31mTypeError\u001b[0m                                 Traceback (most recent call last)",
      "Cell \u001b[0;32mIn[8], line 1\u001b[0m\n\u001b[0;32m----> 1\u001b[0m \u001b[43mtest1\u001b[49m\u001b[43m(\u001b[49m\u001b[43m)\u001b[49m\u001b[38;5;241;43m+\u001b[39;49m\u001b[38;5;124;43m\"\u001b[39;49m\u001b[38;5;124;43msudh\u001b[39;49m\u001b[38;5;124;43m\"\u001b[39;49m\n",
      "\u001b[0;31mTypeError\u001b[0m: unsupported operand type(s) for +: 'NoneType' and 'str'"
     ]
    }
   ],
   "source": [
    "test1()+\"sudh\""
   ]
  },
  {
   "cell_type": "code",
   "execution_count": 1,
   "id": "785333d6-1472-450a-80ac-45577f768fd7",
   "metadata": {},
   "outputs": [],
   "source": [
    "def test2():\n",
    "    return \"this is my fun with return\""
   ]
  },
  {
   "cell_type": "code",
   "execution_count": 2,
   "id": "b6170ed1-b236-4cab-ac6f-be716d642981",
   "metadata": {},
   "outputs": [
    {
     "data": {
      "text/plain": [
       "'this is my fun with return'"
      ]
     },
     "execution_count": 2,
     "metadata": {},
     "output_type": "execute_result"
    }
   ],
   "source": [
    "test2()"
   ]
  },
  {
   "cell_type": "code",
   "execution_count": 6,
   "id": "e9ee7fcd-72c4-458a-b98a-a2ad45dd6d03",
   "metadata": {},
   "outputs": [
    {
     "data": {
      "text/plain": [
       "'this is my fun with return sudh'"
      ]
     },
     "execution_count": 6,
     "metadata": {},
     "output_type": "execute_result"
    }
   ],
   "source": [
    "test2() + \" sudh\""
   ]
  },
  {
   "cell_type": "code",
   "execution_count": 9,
   "id": "7a1c0a0e-530f-4de8-8954-ae4b429859ec",
   "metadata": {},
   "outputs": [],
   "source": [
    "def test3():\n",
    "    return 1,4,\"pwskills\",34.56"
   ]
  },
  {
   "cell_type": "code",
   "execution_count": 10,
   "id": "d520bab8-7d4f-4518-b670-cbcb4dccb679",
   "metadata": {},
   "outputs": [
    {
     "data": {
      "text/plain": [
       "(1, 4, 'pwskills', 34.56)"
      ]
     },
     "execution_count": 10,
     "metadata": {},
     "output_type": "execute_result"
    }
   ],
   "source": [
    "test3()"
   ]
  },
  {
   "cell_type": "code",
   "execution_count": 11,
   "id": "5083b411-9e27-4c0d-8eb3-74221f1f6cf6",
   "metadata": {},
   "outputs": [],
   "source": [
    "a=1,2,3,4,5"
   ]
  },
  {
   "cell_type": "code",
   "execution_count": 12,
   "id": "93e219f4-0efe-4fe7-81ce-4b9cafaf2712",
   "metadata": {},
   "outputs": [
    {
     "data": {
      "text/plain": [
       "(1, 2, 3, 4, 5)"
      ]
     },
     "execution_count": 12,
     "metadata": {},
     "output_type": "execute_result"
    }
   ],
   "source": [
    "a"
   ]
  },
  {
   "cell_type": "code",
   "execution_count": 13,
   "id": "83219927-8db9-46ea-b1d2-bad4873968de",
   "metadata": {},
   "outputs": [
    {
     "data": {
      "text/plain": [
       "1"
      ]
     },
     "execution_count": 13,
     "metadata": {},
     "output_type": "execute_result"
    }
   ],
   "source": [
    "test3()[0]"
   ]
  },
  {
   "cell_type": "code",
   "execution_count": 15,
   "id": "9749047c-4b5e-4c88-bfd9-2ec51c110c39",
   "metadata": {},
   "outputs": [],
   "source": [
    "def test4():\n",
    "    a=3*4+5\n",
    "    return a"
   ]
  },
  {
   "cell_type": "code",
   "execution_count": 16,
   "id": "7cfe7b5e-9664-4445-8b5e-454724eefadd",
   "metadata": {},
   "outputs": [
    {
     "data": {
      "text/plain": [
       "int"
      ]
     },
     "execution_count": 16,
     "metadata": {},
     "output_type": "execute_result"
    }
   ],
   "source": [
    "type(test4())"
   ]
  },
  {
   "cell_type": "code",
   "execution_count": 17,
   "id": "03ec6d32-4186-4d77-9639-087788f38a55",
   "metadata": {},
   "outputs": [],
   "source": [
    "def test5(a,b):\n",
    "    c=a+b\n",
    "    return c"
   ]
  },
  {
   "cell_type": "code",
   "execution_count": 18,
   "id": "f618d1d3-d620-4091-8852-5528af62d559",
   "metadata": {},
   "outputs": [
    {
     "data": {
      "text/plain": [
       "4"
      ]
     },
     "execution_count": 18,
     "metadata": {},
     "output_type": "execute_result"
    }
   ],
   "source": [
    "test5(1,3)"
   ]
  },
  {
   "cell_type": "code",
   "execution_count": 19,
   "id": "b85b27fb-e002-472c-811b-b52a11b7ef67",
   "metadata": {},
   "outputs": [
    {
     "data": {
      "text/plain": [
       "'sudhkumar'"
      ]
     },
     "execution_count": 19,
     "metadata": {},
     "output_type": "execute_result"
    }
   ],
   "source": [
    "test5(\"sudh\",\"kumar\")"
   ]
  },
  {
   "cell_type": "code",
   "execution_count": 20,
   "id": "8d68d0b3-442b-43ea-b136-d744b0d017ad",
   "metadata": {},
   "outputs": [
    {
     "data": {
      "text/plain": [
       "[1, 2, 3, 4, 4, 5, 6, 7, 8]"
      ]
     },
     "execution_count": 20,
     "metadata": {},
     "output_type": "execute_result"
    }
   ],
   "source": [
    "test5([1,2,3,4],[4,5,6,7,8])"
   ]
  },
  {
   "cell_type": "code",
   "execution_count": 21,
   "id": "af57ce8c-b585-43fb-a21b-33cfa0f8e0d0",
   "metadata": {},
   "outputs": [
    {
     "data": {
      "text/plain": [
       "'kumarsudh'"
      ]
     },
     "execution_count": 21,
     "metadata": {},
     "output_type": "execute_result"
    }
   ],
   "source": [
    "test5(b=\"sudh\",a=\"kumar\")"
   ]
  },
  {
   "cell_type": "code",
   "execution_count": 22,
   "id": "8678cf71-125e-4f44-af3c-74b3d023a150",
   "metadata": {},
   "outputs": [],
   "source": [
    "l=[1,2,3,4,5,\"sudh\",\"pwskills\",[1,2,3,34,45]]"
   ]
  },
  {
   "cell_type": "code",
   "execution_count": 23,
   "id": "02a2f6b6-ef98-4ef3-a6d0-471255fee366",
   "metadata": {},
   "outputs": [],
   "source": [
    "# create a function which will take list as input and give a final list with numeric value"
   ]
  },
  {
   "cell_type": "code",
   "execution_count": 26,
   "id": "32003d9a-6393-4642-8373-d0bea59f6368",
   "metadata": {},
   "outputs": [],
   "source": [
    "def test6(a):\n",
    "    n=[]\n",
    "    for i in a:\n",
    "        if type(i)==int or type(i)==float:\n",
    "            n.append(i)\n",
    "    return n"
   ]
  },
  {
   "cell_type": "code",
   "execution_count": 28,
   "id": "32ae280c-3038-4637-842a-3a9e50ea15ae",
   "metadata": {},
   "outputs": [
    {
     "data": {
      "text/plain": [
       "[1, 2, 3, 4, 5]"
      ]
     },
     "execution_count": 28,
     "metadata": {},
     "output_type": "execute_result"
    }
   ],
   "source": [
    "test6(l)"
   ]
  },
  {
   "cell_type": "code",
   "execution_count": 29,
   "id": "77260977-fb3c-4917-9d9e-3d1bdf78704c",
   "metadata": {},
   "outputs": [
    {
     "data": {
      "text/plain": [
       "[1, 2, 3, 4, 5, 'sudh', 'pwskills', [1, 2, 3, 34, 45]]"
      ]
     },
     "execution_count": 29,
     "metadata": {},
     "output_type": "execute_result"
    }
   ],
   "source": [
    "l"
   ]
  },
  {
   "cell_type": "code",
   "execution_count": 31,
   "id": "c76237fc-a9a2-4d8f-b62c-f45f385bcc4a",
   "metadata": {},
   "outputs": [],
   "source": [
    "def test7(a):\n",
    "    n=[]\n",
    "    for i in a:\n",
    "        if type (i)==list:\n",
    "            for j in i:\n",
    "                if type(j)==int or type(j)==float:\n",
    "                    n.append(j)\n",
    "        else:\n",
    "            if type(i)==int or type(i)==float:\n",
    "                n.append(i)\n",
    "    return n"
   ]
  },
  {
   "cell_type": "code",
   "execution_count": 32,
   "id": "1c77c8de-089d-48e3-8d6a-0ca41e467cd1",
   "metadata": {},
   "outputs": [
    {
     "data": {
      "text/plain": [
       "[1, 2, 3, 4, 5, 1, 2, 3, 34, 45]"
      ]
     },
     "execution_count": 32,
     "metadata": {},
     "output_type": "execute_result"
    }
   ],
   "source": [
    "test7(l)"
   ]
  },
  {
   "cell_type": "code",
   "execution_count": 34,
   "id": "8b88cefe-f99a-438d-88d6-b66fc6fce0d3",
   "metadata": {},
   "outputs": [],
   "source": [
    "def test(a,b,c,d,e):\n",
    "    pass"
   ]
  },
  {
   "cell_type": "code",
   "execution_count": 35,
   "id": "f9c1ba50-6b28-4071-b598-0832428404d9",
   "metadata": {},
   "outputs": [
    {
     "ename": "TypeError",
     "evalue": "test() takes 5 positional arguments but 7 were given",
     "output_type": "error",
     "traceback": [
      "\u001b[0;31m---------------------------------------------------------------------------\u001b[0m",
      "\u001b[0;31mTypeError\u001b[0m                                 Traceback (most recent call last)",
      "Cell \u001b[0;32mIn[35], line 1\u001b[0m\n\u001b[0;32m----> 1\u001b[0m \u001b[43mtest\u001b[49m\u001b[43m(\u001b[49m\u001b[38;5;241;43m1\u001b[39;49m\u001b[43m,\u001b[49m\u001b[38;5;241;43m2\u001b[39;49m\u001b[43m,\u001b[49m\u001b[38;5;241;43m3\u001b[39;49m\u001b[43m,\u001b[49m\u001b[38;5;241;43m4\u001b[39;49m\u001b[43m,\u001b[49m\u001b[38;5;241;43m5\u001b[39;49m\u001b[43m,\u001b[49m\u001b[38;5;241;43m6\u001b[39;49m\u001b[43m,\u001b[49m\u001b[38;5;241;43m7\u001b[39;49m\u001b[43m)\u001b[49m\n",
      "\u001b[0;31mTypeError\u001b[0m: test() takes 5 positional arguments but 7 were given"
     ]
    }
   ],
   "source": [
    "test(1,2,3,4,5,6,7)"
   ]
  },
  {
   "cell_type": "code",
   "execution_count": 36,
   "id": "26340565-8a6f-4377-abe7-590565506117",
   "metadata": {},
   "outputs": [],
   "source": [
    "def test1(*args):\n",
    "    return args"
   ]
  },
  {
   "cell_type": "code",
   "execution_count": 37,
   "id": "492f8f7b-dbfe-459a-b3cb-f4f1bd865556",
   "metadata": {},
   "outputs": [
    {
     "data": {
      "text/plain": [
       "(2,)"
      ]
     },
     "execution_count": 37,
     "metadata": {},
     "output_type": "execute_result"
    }
   ],
   "source": [
    "test1(2)"
   ]
  },
  {
   "cell_type": "code",
   "execution_count": 38,
   "id": "77132232-b25f-455e-a124-152b7f8d2d9d",
   "metadata": {},
   "outputs": [
    {
     "data": {
      "text/plain": [
       "(1, 2, 3, 4, 5)"
      ]
     },
     "execution_count": 38,
     "metadata": {},
     "output_type": "execute_result"
    }
   ],
   "source": [
    "test1(1,2,3,4,5,)"
   ]
  },
  {
   "cell_type": "code",
   "execution_count": 39,
   "id": "b6e802a8-91a0-4ff0-a6d3-cfda805c27b7",
   "metadata": {},
   "outputs": [
    {
     "data": {
      "text/plain": [
       "('sudh', [1, 2, 3, 4, 5], (1, 2, 3, 4, 5))"
      ]
     },
     "execution_count": 39,
     "metadata": {},
     "output_type": "execute_result"
    }
   ],
   "source": [
    "test1(\"sudh\",[1,2,3,4,5],(1,2,3,4,5))"
   ]
  },
  {
   "cell_type": "code",
   "execution_count": 40,
   "id": "ad79866a-caf9-4a87-a9b0-3cb791939780",
   "metadata": {},
   "outputs": [],
   "source": [
    "def test2(*sudh):\n",
    "    return sudh\n"
   ]
  },
  {
   "cell_type": "code",
   "execution_count": 41,
   "id": "a09d3ed9-c2cf-44e7-9ef4-8f6761f170f9",
   "metadata": {},
   "outputs": [
    {
     "data": {
      "text/plain": [
       "(3, 4, 5, 6)"
      ]
     },
     "execution_count": 41,
     "metadata": {},
     "output_type": "execute_result"
    }
   ],
   "source": [
    "test2(3,4,5,6)"
   ]
  },
  {
   "cell_type": "code",
   "execution_count": 42,
   "id": "4e125153-98b6-4329-9ddf-963ef955580e",
   "metadata": {},
   "outputs": [],
   "source": [
    "def test3(*args, a):\n",
    "    return args,a"
   ]
  },
  {
   "cell_type": "code",
   "execution_count": 43,
   "id": "5791f9d0-0c35-4cd8-bf44-d828479a8c02",
   "metadata": {},
   "outputs": [
    {
     "ename": "TypeError",
     "evalue": "test3() missing 1 required keyword-only argument: 'a'",
     "output_type": "error",
     "traceback": [
      "\u001b[0;31m---------------------------------------------------------------------------\u001b[0m",
      "\u001b[0;31mTypeError\u001b[0m                                 Traceback (most recent call last)",
      "Cell \u001b[0;32mIn[43], line 1\u001b[0m\n\u001b[0;32m----> 1\u001b[0m \u001b[43mtest3\u001b[49m\u001b[43m(\u001b[49m\u001b[38;5;241;43m3\u001b[39;49m\u001b[43m)\u001b[49m\n",
      "\u001b[0;31mTypeError\u001b[0m: test3() missing 1 required keyword-only argument: 'a'"
     ]
    }
   ],
   "source": [
    "test3(3)"
   ]
  },
  {
   "cell_type": "code",
   "execution_count": 44,
   "id": "d7ae31fe-9f00-4176-b9a8-6de359d4b0f0",
   "metadata": {},
   "outputs": [
    {
     "data": {
      "text/plain": [
       "((1, 2, 3, 4), 'sudh')"
      ]
     },
     "execution_count": 44,
     "metadata": {},
     "output_type": "execute_result"
    }
   ],
   "source": [
    "test3(1,2,3,4,a=\"sudh\")"
   ]
  },
  {
   "cell_type": "code",
   "execution_count": 45,
   "id": "3ecbc1f0-5c90-48bf-81f2-6f8a1b8837c9",
   "metadata": {},
   "outputs": [],
   "source": [
    "def test4(*args):\n",
    "    l=[]\n",
    "    for i in args:\n",
    "        if type(i)==list:\n",
    "            l.append(i)\n",
    "    return l"
   ]
  },
  {
   "cell_type": "code",
   "execution_count": 46,
   "id": "56bbfed2-c29d-461a-8147-bacb9ea03875",
   "metadata": {},
   "outputs": [
    {
     "data": {
      "text/plain": [
       "[[1, 2, 3, 4, 4], [4, 5, 6], [6, 7, 8]]"
      ]
     },
     "execution_count": 46,
     "metadata": {},
     "output_type": "execute_result"
    }
   ],
   "source": [
    "test4(1,2,3,[1,2,3,4,4],(1,2,3,4,4),\"sudh\",[4,5,6],[6,7,8])"
   ]
  },
  {
   "cell_type": "code",
   "execution_count": 47,
   "id": "9798f09f-f12e-438a-bd65-b2cb6851ad16",
   "metadata": {},
   "outputs": [],
   "source": [
    "def test5(**kwargs):\n",
    "    return kwargs"
   ]
  },
  {
   "cell_type": "code",
   "execution_count": 48,
   "id": "35108b5c-4a82-4551-911c-04ee7bae435c",
   "metadata": {},
   "outputs": [
    {
     "data": {
      "text/plain": [
       "{}"
      ]
     },
     "execution_count": 48,
     "metadata": {},
     "output_type": "execute_result"
    }
   ],
   "source": [
    "test5()"
   ]
  },
  {
   "cell_type": "code",
   "execution_count": 49,
   "id": "582cdfcb-9517-4681-b7ab-19e43fb7eb56",
   "metadata": {},
   "outputs": [
    {
     "data": {
      "text/plain": [
       "dict"
      ]
     },
     "execution_count": 49,
     "metadata": {},
     "output_type": "execute_result"
    }
   ],
   "source": [
    "type(test5())"
   ]
  },
  {
   "cell_type": "code",
   "execution_count": 50,
   "id": "16da5a97-6177-46ed-8c57-10ec91d3bd82",
   "metadata": {},
   "outputs": [
    {
     "data": {
      "text/plain": [
       "{'a': 34, 'b': 23, 'c': [1, 2, 3, 4], 'd': ('sudh', 'pwskills')}"
      ]
     },
     "execution_count": 50,
     "metadata": {},
     "output_type": "execute_result"
    }
   ],
   "source": [
    "test5(a=34,b=23,c=[1,2,3,4],d=(\"sudh\",\"pwskills\"))"
   ]
  },
  {
   "cell_type": "code",
   "execution_count": 51,
   "id": "912487a6-6f0b-4c8b-b44d-122f025abeee",
   "metadata": {},
   "outputs": [],
   "source": [
    "def test6(**kwargs):\n",
    "    for i in kwargs.keys():\n",
    "        if type(kwargs[i])==list:\n",
    "            return i,kwargs[i]"
   ]
  },
  {
   "cell_type": "code",
   "execution_count": 53,
   "id": "1ee3dc20-2045-45d9-8e6f-1302d6abbee0",
   "metadata": {},
   "outputs": [
    {
     "data": {
      "text/plain": [
       "('c', [1, 2, 3, 4])"
      ]
     },
     "execution_count": 53,
     "metadata": {},
     "output_type": "execute_result"
    }
   ],
   "source": [
    "test6(a=34,b=23,c=[1,2,3,4],d=(\"sudh\",\"pwskills\"))"
   ]
  },
  {
   "cell_type": "code",
   "execution_count": 55,
   "id": "f08cabd7-2ea4-45f0-87d0-e51666154150",
   "metadata": {},
   "outputs": [],
   "source": [
    "def test7(*args,**kwargs):\n",
    "    return args,kwargs"
   ]
  },
  {
   "cell_type": "code",
   "execution_count": 56,
   "id": "57a23db2-6653-4be7-9b65-d924ce873bcf",
   "metadata": {},
   "outputs": [
    {
     "data": {
      "text/plain": [
       "((2, 3, 4, 5), {'a': 34, 'b': 98})"
      ]
     },
     "execution_count": 56,
     "metadata": {},
     "output_type": "execute_result"
    }
   ],
   "source": [
    "test7(2,3,4,5,a=34,b=98)"
   ]
  },
  {
   "cell_type": "code",
   "execution_count": null,
   "id": "e475a43d-0165-4fa6-a112-450af8edac42",
   "metadata": {},
   "outputs": [],
   "source": []
  }
 ],
 "metadata": {
  "kernelspec": {
   "display_name": "Python 3 (ipykernel)",
   "language": "python",
   "name": "python3"
  },
  "language_info": {
   "codemirror_mode": {
    "name": "ipython",
    "version": 3
   },
   "file_extension": ".py",
   "mimetype": "text/x-python",
   "name": "python",
   "nbconvert_exporter": "python",
   "pygments_lexer": "ipython3",
   "version": "3.10.8"
  }
 },
 "nbformat": 4,
 "nbformat_minor": 5
}
