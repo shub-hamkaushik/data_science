{
 "cells": [
  {
   "cell_type": "code",
   "execution_count": 1,
   "id": "9e80f564-161d-4022-9ebb-bef5618d32e5",
   "metadata": {},
   "outputs": [],
   "source": [
    "d={}"
   ]
  },
  {
   "cell_type": "code",
   "execution_count": 2,
   "id": "460af41a-a83a-493c-863a-74f73cac043b",
   "metadata": {},
   "outputs": [
    {
     "data": {
      "text/plain": [
       "dict"
      ]
     },
     "execution_count": 2,
     "metadata": {},
     "output_type": "execute_result"
    }
   ],
   "source": [
    "type(d)"
   ]
  },
  {
   "cell_type": "code",
   "execution_count": 3,
   "id": "17451373-47f3-4a68-be9e-51c410a0eabd",
   "metadata": {},
   "outputs": [],
   "source": [
    "d1={\"name\":\"sudh\",\"email_id\":\"sk@gmail.com\",\"no.\":9896}"
   ]
  },
  {
   "cell_type": "code",
   "execution_count": 4,
   "id": "0e7bcf0f-0672-4aa6-8c79-89574bfa83fb",
   "metadata": {},
   "outputs": [
    {
     "data": {
      "text/plain": [
       "dict"
      ]
     },
     "execution_count": 4,
     "metadata": {},
     "output_type": "execute_result"
    }
   ],
   "source": [
    "type(d1)"
   ]
  },
  {
   "cell_type": "code",
   "execution_count": 5,
   "id": "c0fd0871-7806-45da-9735-aa81c784429d",
   "metadata": {},
   "outputs": [
    {
     "data": {
      "text/plain": [
       "{'name': 'sudh', 'email_id': 'sk@gmail.com', 'no.': 9896}"
      ]
     },
     "execution_count": 5,
     "metadata": {},
     "output_type": "execute_result"
    }
   ],
   "source": [
    "d1"
   ]
  },
  {
   "cell_type": "code",
   "execution_count": 6,
   "id": "15c87496-fb2e-401a-ad95-a0b729714182",
   "metadata": {},
   "outputs": [],
   "source": [
    "d2 = {\"name\":\"sudh\",\"name\":\"sk\"}"
   ]
  },
  {
   "cell_type": "code",
   "execution_count": 7,
   "id": "d992305a-2e96-4d8c-b819-63039f54c2bc",
   "metadata": {},
   "outputs": [
    {
     "data": {
      "text/plain": [
       "{'name': 'sk'}"
      ]
     },
     "execution_count": 7,
     "metadata": {},
     "output_type": "execute_result"
    }
   ],
   "source": [
    "d2"
   ]
  },
  {
   "cell_type": "code",
   "execution_count": 8,
   "id": "f3fda565-eec7-476d-b568-69a009e9138a",
   "metadata": {},
   "outputs": [],
   "source": [
    "d3={123:\"abc\"}"
   ]
  },
  {
   "cell_type": "code",
   "execution_count": 9,
   "id": "bc04f98a-25af-4274-813b-5ef6359a9257",
   "metadata": {},
   "outputs": [
    {
     "data": {
      "text/plain": [
       "{123: 'abc'}"
      ]
     },
     "execution_count": 9,
     "metadata": {},
     "output_type": "execute_result"
    }
   ],
   "source": [
    "d3"
   ]
  },
  {
   "cell_type": "code",
   "execution_count": 10,
   "id": "190287f7-c738-4a1e-82cd-9770b07f1de9",
   "metadata": {},
   "outputs": [],
   "source": [
    "d5={True:\"abc\"}"
   ]
  },
  {
   "cell_type": "code",
   "execution_count": 11,
   "id": "80b1a14e-fbeb-46a6-8b27-eca83a2e9c99",
   "metadata": {},
   "outputs": [
    {
     "data": {
      "text/plain": [
       "{True: 'abc'}"
      ]
     },
     "execution_count": 11,
     "metadata": {},
     "output_type": "execute_result"
    }
   ],
   "source": [
    "d5"
   ]
  },
  {
   "cell_type": "code",
   "execution_count": 12,
   "id": "b95aceb0-78f1-4f84-aeb3-b00bea363c86",
   "metadata": {},
   "outputs": [
    {
     "ename": "SyntaxError",
     "evalue": "incomplete input (2741267627.py, line 1)",
     "output_type": "error",
     "traceback": [
      "\u001b[0;36m  Cell \u001b[0;32mIn[12], line 1\u001b[0;36m\u001b[0m\n\u001b[0;31m    d6={#:\"abc\"}\u001b[0m\n\u001b[0m                ^\u001b[0m\n\u001b[0;31mSyntaxError\u001b[0m\u001b[0;31m:\u001b[0m incomplete input\n"
     ]
    }
   ],
   "source": [
    "d6={#:\"abc\"}"
   ]
  },
  {
   "cell_type": "code",
   "execution_count": null,
   "id": "3387c02c-d1d2-4e7b-a8b1-3645a9b4a80d",
   "metadata": {},
   "outputs": [],
   "source": []
  },
  {
   "cell_type": "code",
   "execution_count": 1,
   "id": "382999cd-c45c-4c73-8cf4-d1be5d6626c8",
   "metadata": {},
   "outputs": [
    {
     "ename": "TypeError",
     "evalue": "unhashable type: 'dict'",
     "output_type": "error",
     "traceback": [
      "\u001b[0;31m---------------------------------------------------------------------------\u001b[0m",
      "\u001b[0;31mTypeError\u001b[0m                                 Traceback (most recent call last)",
      "Cell \u001b[0;32mIn[1], line 1\u001b[0m\n\u001b[0;32m----> 1\u001b[0m d11\u001b[38;5;241m=\u001b[39m{{\u001b[38;5;124m\"\u001b[39m\u001b[38;5;124mkey\u001b[39m\u001b[38;5;124m\"\u001b[39m:\u001b[38;5;241m1234\u001b[39m}:\u001b[38;5;124m\"\u001b[39m\u001b[38;5;124mabc\u001b[39m\u001b[38;5;124m\"\u001b[39m}\n",
      "\u001b[0;31mTypeError\u001b[0m: unhashable type: 'dict'"
     ]
    }
   ],
   "source": [
    "d11={{\"key\":1234}:\"abc\"}"
   ]
  },
  {
   "cell_type": "code",
   "execution_count": 2,
   "id": "41d12a77-621a-4ae4-bc70-68822157019e",
   "metadata": {},
   "outputs": [],
   "source": [
    "d12={\"course_name\":[\"datascience\",\"webdev\",\"java\"]}"
   ]
  },
  {
   "cell_type": "code",
   "execution_count": 3,
   "id": "e128a28a-b028-40ec-ab3c-0718372e5951",
   "metadata": {},
   "outputs": [
    {
     "data": {
      "text/plain": [
       "{'course_name': ['datascience', 'webdev', 'java']}"
      ]
     },
     "execution_count": 3,
     "metadata": {},
     "output_type": "execute_result"
    }
   ],
   "source": [
    "d12"
   ]
  },
  {
   "cell_type": "code",
   "execution_count": 4,
   "id": "3ffc919d-7ca7-4d84-bdd1-76171f2f981b",
   "metadata": {},
   "outputs": [],
   "source": [
    "d13={\"key\":(1,2,3,4,5)}"
   ]
  },
  {
   "cell_type": "code",
   "execution_count": null,
   "id": "8f689e60-0c57-4445-99de-9db1b41774d4",
   "metadata": {},
   "outputs": [],
   "source": []
  },
  {
   "cell_type": "code",
   "execution_count": 5,
   "id": "6d84096e-acc3-4593-b252-3fac48ed7ca1",
   "metadata": {},
   "outputs": [],
   "source": [
    "d15={\"key\":{\"name\":\"sudh\",\"class\":\"data\"}}"
   ]
  },
  {
   "cell_type": "code",
   "execution_count": 6,
   "id": "eb268c39-8227-4566-af1d-b9542f1da9c6",
   "metadata": {},
   "outputs": [],
   "source": [
    "d16={\"batch_name\":[\"data science master\",\"web dev\",\"305\"],\"start_date\":(28,14,21)}"
   ]
  },
  {
   "cell_type": "code",
   "execution_count": 7,
   "id": "4b6c35b9-5847-42e5-9ae4-8f5e97d585e9",
   "metadata": {},
   "outputs": [
    {
     "data": {
      "text/plain": [
       "{'batch_name': ['data science master', 'web dev', '305'],\n",
       " 'start_date': (28, 14, 21)}"
      ]
     },
     "execution_count": 7,
     "metadata": {},
     "output_type": "execute_result"
    }
   ],
   "source": [
    "d16"
   ]
  },
  {
   "cell_type": "code",
   "execution_count": 8,
   "id": "386ed100-8ecd-40a8-8efb-cb82daea8a6d",
   "metadata": {},
   "outputs": [],
   "source": [
    "d16[\"timing\"]=(8,8,8)"
   ]
  },
  {
   "cell_type": "code",
   "execution_count": 9,
   "id": "da2d331d-4221-4786-acdc-0437186e8e85",
   "metadata": {},
   "outputs": [
    {
     "data": {
      "text/plain": [
       "{'batch_name': ['data science master', 'web dev', '305'],\n",
       " 'start_date': (28, 14, 21),\n",
       " 'timing': (8, 8, 8)}"
      ]
     },
     "execution_count": 9,
     "metadata": {},
     "output_type": "execute_result"
    }
   ],
   "source": [
    "d16"
   ]
  },
  {
   "cell_type": "code",
   "execution_count": 10,
   "id": "6f348d18-d0f5-4cb4-a07d-778e405f61b2",
   "metadata": {},
   "outputs": [],
   "source": [
    "d16[\"name\"]=\"shubh\""
   ]
  },
  {
   "cell_type": "code",
   "execution_count": 11,
   "id": "861a50d3-941d-4f80-a6cb-52ca2d205f90",
   "metadata": {},
   "outputs": [
    {
     "data": {
      "text/plain": [
       "{'batch_name': ['data science master', 'web dev', '305'],\n",
       " 'start_date': (28, 14, 21),\n",
       " 'timing': (8, 8, 8),\n",
       " 'name': 'shubh'}"
      ]
     },
     "execution_count": 11,
     "metadata": {},
     "output_type": "execute_result"
    }
   ],
   "source": [
    "d16"
   ]
  },
  {
   "cell_type": "code",
   "execution_count": 14,
   "id": "8903874d-f5ae-4d96-ad61-c9e67ef6b2a0",
   "metadata": {},
   "outputs": [
    {
     "data": {
      "text/plain": [
       "'SHUBH'"
      ]
     },
     "execution_count": 14,
     "metadata": {},
     "output_type": "execute_result"
    }
   ],
   "source": [
    "d16[\"name\"].upper()"
   ]
  },
  {
   "cell_type": "code",
   "execution_count": 15,
   "id": "64e19805-8eb6-4228-8ff8-90089866ebc0",
   "metadata": {},
   "outputs": [
    {
     "data": {
      "text/plain": [
       "4"
      ]
     },
     "execution_count": 15,
     "metadata": {},
     "output_type": "execute_result"
    }
   ],
   "source": [
    "len(d16)"
   ]
  },
  {
   "cell_type": "code",
   "execution_count": 16,
   "id": "41046e50-ebf9-412d-9458-08b12541e963",
   "metadata": {},
   "outputs": [
    {
     "data": {
      "text/plain": [
       "dict_keys(['batch_name', 'start_date', 'timing', 'name'])"
      ]
     },
     "execution_count": 16,
     "metadata": {},
     "output_type": "execute_result"
    }
   ],
   "source": [
    "d16.keys()"
   ]
  },
  {
   "cell_type": "code",
   "execution_count": 17,
   "id": "ef3725d3-ebfe-4197-a0fb-8e5b92f0061a",
   "metadata": {},
   "outputs": [
    {
     "data": {
      "text/plain": [
       "dict_values([['data science master', 'web dev', '305'], (28, 14, 21), (8, 8, 8), 'shubh'])"
      ]
     },
     "execution_count": 17,
     "metadata": {},
     "output_type": "execute_result"
    }
   ],
   "source": [
    "d16.values()"
   ]
  },
  {
   "cell_type": "code",
   "execution_count": 18,
   "id": "6dad8f58-40bb-4dd1-8cca-4af3f2b5b695",
   "metadata": {},
   "outputs": [
    {
     "data": {
      "text/plain": [
       "[['data science master', 'web dev', '305'], (28, 14, 21), (8, 8, 8), 'shubh']"
      ]
     },
     "execution_count": 18,
     "metadata": {},
     "output_type": "execute_result"
    }
   ],
   "source": [
    "list(d16.values())"
   ]
  },
  {
   "cell_type": "code",
   "execution_count": 19,
   "id": "908d674e-1a8a-4b0e-9d73-854c65a0ef11",
   "metadata": {},
   "outputs": [
    {
     "data": {
      "text/plain": [
       "['batch_name', 'start_date', 'timing', 'name']"
      ]
     },
     "execution_count": 19,
     "metadata": {},
     "output_type": "execute_result"
    }
   ],
   "source": [
    "list(d16.keys())"
   ]
  },
  {
   "cell_type": "code",
   "execution_count": 20,
   "id": "4a623c5b-940d-4c14-8dd8-35c5071319df",
   "metadata": {},
   "outputs": [
    {
     "data": {
      "text/plain": [
       "dict_items([('batch_name', ['data science master', 'web dev', '305']), ('start_date', (28, 14, 21)), ('timing', (8, 8, 8)), ('name', 'shubh')])"
      ]
     },
     "execution_count": 20,
     "metadata": {},
     "output_type": "execute_result"
    }
   ],
   "source": [
    "d16.items()"
   ]
  },
  {
   "cell_type": "code",
   "execution_count": 21,
   "id": "87842db5-1ccb-48d5-ad66-b7fb77daa135",
   "metadata": {},
   "outputs": [
    {
     "name": "stdout",
     "output_type": "stream",
     "text": [
      "400\n",
      "(200, 300, 400)\n"
     ]
    }
   ],
   "source": [
    "atuple = (100, 200, 300, 400, 500)\n",
    "\n",
    "print(atuple[-2])\n",
    "\n",
    "print(atuple[-4:-1])"
   ]
  },
  {
   "cell_type": "code",
   "execution_count": null,
   "id": "1cb0ff3a-3146-420c-8d75-db6f43b90705",
   "metadata": {},
   "outputs": [],
   "source": []
  }
 ],
 "metadata": {
  "kernelspec": {
   "display_name": "Python 3 (ipykernel)",
   "language": "python",
   "name": "python3"
  },
  "language_info": {
   "codemirror_mode": {
    "name": "ipython",
    "version": 3
   },
   "file_extension": ".py",
   "mimetype": "text/x-python",
   "name": "python",
   "nbconvert_exporter": "python",
   "pygments_lexer": "ipython3",
   "version": "3.10.8"
  }
 },
 "nbformat": 4,
 "nbformat_minor": 5
}
