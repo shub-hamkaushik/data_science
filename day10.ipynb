{
 "cells": [
  {
   "cell_type": "code",
   "execution_count": 1,
   "id": "4d1d3e11-277f-4c6b-98ee-d85d2650fa04",
   "metadata": {},
   "outputs": [],
   "source": [
    "a=1"
   ]
  },
  {
   "cell_type": "code",
   "execution_count": 3,
   "id": "5f03d43a-a8f3-46c0-8499-db5cc4735e52",
   "metadata": {},
   "outputs": [
    {
     "name": "stdout",
     "output_type": "stream",
     "text": [
      "<class 'int'>\n"
     ]
    }
   ],
   "source": [
    "print(type(a))"
   ]
  },
  {
   "cell_type": "code",
   "execution_count": 4,
   "id": "b77819d3-4afa-4b42-b654-82c93207c9f8",
   "metadata": {},
   "outputs": [
    {
     "name": "stdout",
     "output_type": "stream",
     "text": [
      "<class 'str'>\n"
     ]
    }
   ],
   "source": [
    "print(type(\"Pwskills\"))"
   ]
  },
  {
   "cell_type": "code",
   "execution_count": 5,
   "id": "ef07e94d-a87f-403c-b443-1b01491bad63",
   "metadata": {},
   "outputs": [],
   "source": [
    "class test:\n",
    "    pass"
   ]
  },
  {
   "cell_type": "code",
   "execution_count": 6,
   "id": "e95a85ea-a609-4ba3-9717-aa2e2fbb4dee",
   "metadata": {},
   "outputs": [],
   "source": [
    "a=test()"
   ]
  },
  {
   "cell_type": "code",
   "execution_count": 7,
   "id": "e4e8d942-a010-449d-8fb3-0363cdcdabc0",
   "metadata": {},
   "outputs": [
    {
     "name": "stdout",
     "output_type": "stream",
     "text": [
      "<class '__main__.test'>\n"
     ]
    }
   ],
   "source": [
    "print(type(a))"
   ]
  },
  {
   "cell_type": "code",
   "execution_count": 8,
   "id": "2d95ee3a-0824-478c-8d97-03ac24dca1fe",
   "metadata": {},
   "outputs": [],
   "source": [
    "class pwskills:\n",
    "    def welcome_msg(self):\n",
    "        print(\"welcome to pwskills\")"
   ]
  },
  {
   "cell_type": "code",
   "execution_count": 11,
   "id": "59623b47-5a3c-4a6d-bdf1-31c47b9ff11f",
   "metadata": {},
   "outputs": [],
   "source": [
    "rohan= pwskills()\n",
    "# object created"
   ]
  },
  {
   "cell_type": "code",
   "execution_count": 10,
   "id": "ec174cd1-5ccd-4f35-ac34-5886e360547f",
   "metadata": {},
   "outputs": [
    {
     "name": "stdout",
     "output_type": "stream",
     "text": [
      "welcome to pwskills\n"
     ]
    }
   ],
   "source": [
    "rohan.welcome_msg()"
   ]
  },
  {
   "cell_type": "code",
   "execution_count": 14,
   "id": "082f9440-4824-47c4-8d01-750f6749d437",
   "metadata": {},
   "outputs": [],
   "source": [
    "class pwskills1():\n",
    "    def __init__(self,phone_no,email_id,student_id):\n",
    "        self.phone_no=phone_no\n",
    "        self.email_id=email_id\n",
    "        self.student_id=student_id\n",
    "    def return_student_details(self):\n",
    "        return self.phone_no,self.email_id,self.student_id"
   ]
  },
  {
   "cell_type": "code",
   "execution_count": 16,
   "id": "90bd36e1-06a4-4f93-b5c8-b6923ae8b74b",
   "metadata": {},
   "outputs": [],
   "source": [
    "sohan=pwskills1(9896,\"sk@gmail.com\",102)"
   ]
  },
  {
   "cell_type": "code",
   "execution_count": 17,
   "id": "ec2ded02-9198-4ac7-9619-af25d4cbb5b0",
   "metadata": {},
   "outputs": [
    {
     "data": {
      "text/plain": [
       "9896"
      ]
     },
     "execution_count": 17,
     "metadata": {},
     "output_type": "execute_result"
    }
   ],
   "source": [
    "sohan.phone_no"
   ]
  },
  {
   "cell_type": "code",
   "execution_count": 18,
   "id": "86e24f20-c107-40eb-b623-7a11976771c4",
   "metadata": {},
   "outputs": [
    {
     "data": {
      "text/plain": [
       "(9896, 'sk@gmail.com', 102)"
      ]
     },
     "execution_count": 18,
     "metadata": {},
     "output_type": "execute_result"
    }
   ],
   "source": [
    "sohan.return_student_details()"
   ]
  },
  {
   "cell_type": "code",
   "execution_count": 19,
   "id": "818bcc7b-9c4d-44e3-9328-332fb314d3fe",
   "metadata": {},
   "outputs": [],
   "source": [
    "class pwskills2():\n",
    "    def __init__(khuchbhii,phone_no,email_id,student_id):\n",
    "        khuchbhii.phone_no=phone_no\n",
    "        khuchbhii.email_id=email_id\n",
    "        khuchbhii.student_id=student_id\n",
    "    def return_student_details(khuchbhii):\n",
    "        return khuchbhii.phone_no,khuchbhii.email_id,khubhbhii.student_id"
   ]
  },
  {
   "cell_type": "code",
   "execution_count": 21,
   "id": "c1f4ee27-5174-42fd-82d6-d6d18f05e577",
   "metadata": {},
   "outputs": [],
   "source": [
    "mohan=pwskills2(9896,\"sk@gmail.com\",12)"
   ]
  },
  {
   "cell_type": "code",
   "execution_count": 22,
   "id": "064222ec-0fa2-40fd-a052-f8169801d719",
   "metadata": {},
   "outputs": [
    {
     "data": {
      "text/plain": [
       "9896"
      ]
     },
     "execution_count": 22,
     "metadata": {},
     "output_type": "execute_result"
    }
   ],
   "source": [
    "mohan.phone_no"
   ]
  },
  {
   "cell_type": "code",
   "execution_count": null,
   "id": "97323728-0832-4420-9e01-f997bdfbc665",
   "metadata": {},
   "outputs": [],
   "source": []
  }
 ],
 "metadata": {
  "kernelspec": {
   "display_name": "Python 3 (ipykernel)",
   "language": "python",
   "name": "python3"
  },
  "language_info": {
   "codemirror_mode": {
    "name": "ipython",
    "version": 3
   },
   "file_extension": ".py",
   "mimetype": "text/x-python",
   "name": "python",
   "nbconvert_exporter": "python",
   "pygments_lexer": "ipython3",
   "version": "3.10.8"
  }
 },
 "nbformat": 4,
 "nbformat_minor": 5
}
