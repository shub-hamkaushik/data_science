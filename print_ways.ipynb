{
 "cells": [
  {
   "cell_type": "code",
   "execution_count": 1,
   "id": "0e526d5a-91d2-42be-82b9-642bcff85929",
   "metadata": {},
   "outputs": [],
   "source": [
    "a=10"
   ]
  },
  {
   "cell_type": "code",
   "execution_count": 2,
   "id": "c70d9f3f-b861-47c1-8fbd-887450e53b51",
   "metadata": {},
   "outputs": [
    {
     "data": {
      "text/plain": [
       "int"
      ]
     },
     "execution_count": 2,
     "metadata": {},
     "output_type": "execute_result"
    }
   ],
   "source": [
    "type(a)"
   ]
  },
  {
   "cell_type": "code",
   "execution_count": 3,
   "id": "56e4b2f4-210b-4d5d-96cb-32f3d3822144",
   "metadata": {},
   "outputs": [],
   "source": [
    "a='c'"
   ]
  },
  {
   "cell_type": "code",
   "execution_count": 4,
   "id": "1c7f38df-0a4c-460b-98c3-b7d6111fa1e3",
   "metadata": {},
   "outputs": [
    {
     "data": {
      "text/plain": [
       "str"
      ]
     },
     "execution_count": 4,
     "metadata": {},
     "output_type": "execute_result"
    }
   ],
   "source": [
    "type(a)"
   ]
  },
  {
   "cell_type": "code",
   "execution_count": 5,
   "id": "ee8ddfc6-5e24-4ef7-8d71-e5928d87652b",
   "metadata": {},
   "outputs": [
    {
     "data": {
      "text/plain": [
       "123"
      ]
     },
     "execution_count": 5,
     "metadata": {},
     "output_type": "execute_result"
    }
   ],
   "source": [
    "int('123')"
   ]
  },
  {
   "cell_type": "code",
   "execution_count": 7,
   "id": "0857c743-61b8-4778-adc7-d0f4d12f52e5",
   "metadata": {},
   "outputs": [],
   "source": [
    "# printing ways"
   ]
  },
  {
   "cell_type": "code",
   "execution_count": 8,
   "id": "a9823e23-de46-482b-baa6-710623ad35ff",
   "metadata": {},
   "outputs": [
    {
     "name": "stdout",
     "output_type": "stream",
     "text": [
      "My age is: 32\n"
     ]
    }
   ],
   "source": [
    "age=32\n",
    "print('My age is:',age)\n"
   ]
  },
  {
   "cell_type": "code",
   "execution_count": null,
   "id": "e8a9843d-3c09-4389-bbb9-57a2db79c2dc",
   "metadata": {},
   "outputs": [],
   "source": [
    "## f string"
   ]
  },
  {
   "cell_type": "code",
   "execution_count": 14,
   "id": "db2d6893-7389-4e2b-9a24-63a4a3bbcd59",
   "metadata": {},
   "outputs": [
    {
     "name": "stdout",
     "output_type": "stream",
     "text": [
      "My age is: 32\n"
     ]
    }
   ],
   "source": [
    "\n",
    "print(f\"My age is: {age}\")\n"
   ]
  },
  {
   "cell_type": "code",
   "execution_count": 15,
   "id": "70ca98a3-ee7e-4122-9403-210fbbe9faec",
   "metadata": {},
   "outputs": [
    {
     "name": "stdout",
     "output_type": "stream",
     "text": [
      "My name is shubham and age is 20\n"
     ]
    }
   ],
   "source": [
    "# format()\n",
    "name=\"shubham\"\n",
    "age=\"20\"\n",
    "print(\"My name is {} and age is {}\".format(name,age))"
   ]
  },
  {
   "cell_type": "code",
   "execution_count": 16,
   "id": "fde560cc-bba9-4450-9f20-5504663ed322",
   "metadata": {},
   "outputs": [],
   "source": [
    "#placeholder"
   ]
  },
  {
   "cell_type": "code",
   "execution_count": 19,
   "id": "547126aa-abaf-4047-91b7-e3a95892d4c1",
   "metadata": {},
   "outputs": [
    {
     "name": "stdout",
     "output_type": "stream",
     "text": [
      "My name is shubham and age is 20\n"
     ]
    }
   ],
   "source": [
    "print(\"My name is {firstname} and age is {firststage}\".format(firststage=age,firstname=name))"
   ]
  },
  {
   "cell_type": "code",
   "execution_count": 20,
   "id": "2a5fd0f2-99a6-4992-937d-7b65921fe18a",
   "metadata": {},
   "outputs": [],
   "source": [
    "## mall - input the product price\n",
    "## product >1000 rs 20% off\n",
    "## print the product price after removing the discount\n",
    "## product <=1000 rs 30% off\n",
    "## print the product price after removing the discount\n"
   ]
  },
  {
   "cell_type": "code",
   "execution_count": 22,
   "id": "59f24f81-b3c7-40a6-bdd7-73096e8fd902",
   "metadata": {},
   "outputs": [
    {
     "name": "stdin",
     "output_type": "stream",
     "text": [
      "Enter the price 700\n"
     ]
    },
    {
     "name": "stdout",
     "output_type": "stream",
     "text": [
      "The price of the product is 489.99999999999994\n"
     ]
    }
   ],
   "source": [
    "product_price=int(input(\"Enter the price\"))\n",
    "if product_price>1000:\n",
    "    print(\"The price of the product is {}\".format(product_price*0.8))\n",
    "else:\n",
    "    print(\"The price of the product is {}\".format(product_price*0.7))"
   ]
  },
  {
   "cell_type": "code",
   "execution_count": null,
   "id": "f643f98a-40cf-49b3-992e-9b598930b25a",
   "metadata": {},
   "outputs": [],
   "source": []
  }
 ],
 "metadata": {
  "kernelspec": {
   "display_name": "Python 3 (ipykernel)",
   "language": "python",
   "name": "python3"
  },
  "language_info": {
   "codemirror_mode": {
    "name": "ipython",
    "version": 3
   },
   "file_extension": ".py",
   "mimetype": "text/x-python",
   "name": "python",
   "nbconvert_exporter": "python",
   "pygments_lexer": "ipython3",
   "version": "3.10.8"
  }
 },
 "nbformat": 4,
 "nbformat_minor": 5
}
