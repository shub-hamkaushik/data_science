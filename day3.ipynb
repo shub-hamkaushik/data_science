{
 "cells": [
  {
   "cell_type": "code",
   "execution_count": 1,
   "id": "712791e8-16f7-49f4-915c-6adb857551f2",
   "metadata": {},
   "outputs": [],
   "source": [
    "## String manipulation"
   ]
  },
  {
   "cell_type": "code",
   "execution_count": 2,
   "id": "e8c4717f-fc64-4044-8a88-2eca0633f53f",
   "metadata": {},
   "outputs": [
    {
     "data": {
      "text/plain": [
       "'hello'"
      ]
     },
     "execution_count": 2,
     "metadata": {},
     "output_type": "execute_result"
    }
   ],
   "source": [
    "'hello'"
   ]
  },
  {
   "cell_type": "code",
   "execution_count": 3,
   "id": "7033d96e-a29a-437b-ac28-55d8c8df210e",
   "metadata": {},
   "outputs": [],
   "source": [
    "# Entire phrase"
   ]
  },
  {
   "cell_type": "code",
   "execution_count": 4,
   "id": "af049b49-ca67-4e13-b864-e1da8c8d4959",
   "metadata": {},
   "outputs": [
    {
     "data": {
      "text/plain": [
       "'This is also a string'"
      ]
     },
     "execution_count": 4,
     "metadata": {},
     "output_type": "execute_result"
    }
   ],
   "source": [
    "'This is also a string'"
   ]
  },
  {
   "cell_type": "code",
   "execution_count": 5,
   "id": "1ed45955-f95b-47bf-ad41-ebba9d85c558",
   "metadata": {},
   "outputs": [
    {
     "data": {
      "text/plain": [
       "\"I'm using single quotes,but will create an error\""
      ]
     },
     "execution_count": 5,
     "metadata": {},
     "output_type": "execute_result"
    }
   ],
   "source": [
    "\"I'm using single quotes,but will create an error\""
   ]
  },
  {
   "cell_type": "code",
   "execution_count": 6,
   "id": "85f30022-1d72-4872-884b-c5a7a76a229d",
   "metadata": {},
   "outputs": [
    {
     "data": {
      "text/plain": [
       "'iNeuron'"
      ]
     },
     "execution_count": 6,
     "metadata": {},
     "output_type": "execute_result"
    }
   ],
   "source": [
    "\"iNeuron\""
   ]
  },
  {
   "cell_type": "code",
   "execution_count": 9,
   "id": "92bc0d7d-48fa-46aa-9b28-e713aed9e52a",
   "metadata": {},
   "outputs": [
    {
     "name": "stdout",
     "output_type": "stream",
     "text": [
      "iNeuron\n"
     ]
    }
   ],
   "source": [
    "## String operations\n",
    "string=\"iNeuron\"\n",
    "print(string)"
   ]
  },
  {
   "cell_type": "code",
   "execution_count": 10,
   "id": "4644b1a5-3696-40ce-a050-f032f0c61c05",
   "metadata": {},
   "outputs": [
    {
     "name": "stdout",
     "output_type": "stream",
     "text": [
      "i\n"
     ]
    }
   ],
   "source": [
    "print(string[0])"
   ]
  },
  {
   "cell_type": "code",
   "execution_count": 11,
   "id": "037e8b1c-a684-4ad9-be50-33b122d443bb",
   "metadata": {},
   "outputs": [
    {
     "name": "stdout",
     "output_type": "stream",
     "text": [
      "n\n"
     ]
    }
   ],
   "source": [
    "print(string[-1])"
   ]
  },
  {
   "cell_type": "code",
   "execution_count": 12,
   "id": "0cab522f-18d3-4b3a-8256-8c2739b7174c",
   "metadata": {},
   "outputs": [
    {
     "name": "stdout",
     "output_type": "stream",
     "text": [
      "r\n"
     ]
    }
   ],
   "source": [
    "print(string[4])"
   ]
  },
  {
   "cell_type": "code",
   "execution_count": 15,
   "id": "a64413c1-dd48-4943-bebd-2bc178da080e",
   "metadata": {},
   "outputs": [
    {
     "ename": "SyntaxError",
     "evalue": "invalid syntax (2005967342.py, line 1)",
     "output_type": "error",
     "traceback": [
      "\u001b[0;36m  Cell \u001b[0;32mIn[15], line 1\u001b[0;36m\u001b[0m\n\u001b[0;31m    If length exceeds, then it will give index out of range\u001b[0m\n\u001b[0m       ^\u001b[0m\n\u001b[0;31mSyntaxError\u001b[0m\u001b[0;31m:\u001b[0m invalid syntax\n"
     ]
    }
   ],
   "source": [
    "\"\"\"If length exceeds, then it will give index out of range\n",
    "as we are finding index\"\"\"\n",
    "print(string[9])"
   ]
  },
  {
   "cell_type": "code",
   "execution_count": 16,
   "id": "11340f95-28a0-4025-9020-8542dfd9cfa4",
   "metadata": {},
   "outputs": [],
   "source": [
    "## Slicing Operation"
   ]
  },
  {
   "cell_type": "code",
   "execution_count": 17,
   "id": "ea5d0471-84d0-4b32-b295-c60d3f0f1786",
   "metadata": {},
   "outputs": [
    {
     "name": "stdout",
     "output_type": "stream",
     "text": [
      "Neuron\n"
     ]
    }
   ],
   "source": [
    "print(string[1:])"
   ]
  },
  {
   "cell_type": "code",
   "execution_count": 19,
   "id": "9d5bcdf7-6949-4fbc-8249-fec653242270",
   "metadata": {},
   "outputs": [
    {
     "name": "stdout",
     "output_type": "stream",
     "text": [
      "Ne\n"
     ]
    }
   ],
   "source": [
    "print(string[1:3])"
   ]
  },
  {
   "cell_type": "code",
   "execution_count": 20,
   "id": "a4d81f04-99af-4610-8339-6082a76bd264",
   "metadata": {},
   "outputs": [
    {
     "name": "stdout",
     "output_type": "stream",
     "text": [
      "iNeu\n"
     ]
    }
   ],
   "source": [
    "print(string[:-3])"
   ]
  },
  {
   "cell_type": "code",
   "execution_count": 21,
   "id": "80744ff4-6926-4279-997b-54521d2b0d67",
   "metadata": {},
   "outputs": [
    {
     "name": "stdout",
     "output_type": "stream",
     "text": [
      "euron\n"
     ]
    }
   ],
   "source": [
    "print(string[2:])"
   ]
  },
  {
   "cell_type": "code",
   "execution_count": 23,
   "id": "f3c9ad1f-f28f-456f-b4d7-cb8002fc6911",
   "metadata": {},
   "outputs": [
    {
     "name": "stdout",
     "output_type": "stream",
     "text": [
      "on\n"
     ]
    }
   ],
   "source": [
    "print(string[-2:])\n",
    "## give last two char"
   ]
  },
  {
   "cell_type": "code",
   "execution_count": 24,
   "id": "20b62243-43f9-4225-8a12-42860e20aef3",
   "metadata": {},
   "outputs": [],
   "source": [
    "## index and slice notation"
   ]
  },
  {
   "cell_type": "code",
   "execution_count": 26,
   "id": "b1514119-9b43-41e4-8941-db9617be42f2",
   "metadata": {},
   "outputs": [
    {
     "data": {
      "text/plain": [
       "'hello world'"
      ]
     },
     "execution_count": 26,
     "metadata": {},
     "output_type": "execute_result"
    }
   ],
   "source": [
    "s=\"hello world\"\n",
    "s[::1]"
   ]
  },
  {
   "cell_type": "code",
   "execution_count": 27,
   "id": "aefd0f90-7b01-4600-988a-e7aa8d8c6946",
   "metadata": {},
   "outputs": [
    {
     "data": {
      "text/plain": [
       "'hlowrd'"
      ]
     },
     "execution_count": 27,
     "metadata": {},
     "output_type": "execute_result"
    }
   ],
   "source": [
    "s[::2]\n",
    "# Grab everything,but go in step size of 2"
   ]
  },
  {
   "cell_type": "code",
   "execution_count": 29,
   "id": "9fbffe76-ccaf-462b-8453-f29d7162962d",
   "metadata": {},
   "outputs": [
    {
     "data": {
      "text/plain": [
       "'dlrow olleh'"
      ]
     },
     "execution_count": 29,
     "metadata": {},
     "output_type": "execute_result"
    }
   ],
   "source": [
    "s[::-1]\n",
    "# we can use this to print a string backwards"
   ]
  },
  {
   "cell_type": "code",
   "execution_count": 30,
   "id": "4cdf87eb-52fb-4751-8342-f52a4b04a097",
   "metadata": {},
   "outputs": [],
   "source": [
    "# Immutability which is created and cannot be changed"
   ]
  },
  {
   "cell_type": "code",
   "execution_count": 31,
   "id": "abb62ab7-91ea-4a4c-9163-839196d2252f",
   "metadata": {},
   "outputs": [],
   "source": [
    "# lets try to change first letter to x"
   ]
  },
  {
   "cell_type": "code",
   "execution_count": 32,
   "id": "6030bec9-a7a3-4c16-8071-07f8f8c92da7",
   "metadata": {},
   "outputs": [
    {
     "ename": "TypeError",
     "evalue": "'str' object does not support item assignment",
     "output_type": "error",
     "traceback": [
      "\u001b[0;31m---------------------------------------------------------------------------\u001b[0m",
      "\u001b[0;31mTypeError\u001b[0m                                 Traceback (most recent call last)",
      "Cell \u001b[0;32mIn[32], line 1\u001b[0m\n\u001b[0;32m----> 1\u001b[0m \u001b[43ms\u001b[49m\u001b[43m[\u001b[49m\u001b[38;5;241;43m0\u001b[39;49m\u001b[43m]\u001b[49m\u001b[38;5;241m=\u001b[39m\u001b[38;5;124m'\u001b[39m\u001b[38;5;124mx\u001b[39m\u001b[38;5;124m'\u001b[39m\n",
      "\u001b[0;31mTypeError\u001b[0m: 'str' object does not support item assignment"
     ]
    }
   ],
   "source": [
    "s[0]='x'"
   ]
  },
  {
   "cell_type": "code",
   "execution_count": 33,
   "id": "91456460-2fe1-48f1-94aa-9c7b9d050384",
   "metadata": {},
   "outputs": [],
   "source": [
    "# but we can do cocatenate strings"
   ]
  },
  {
   "cell_type": "code",
   "execution_count": 16,
   "id": "28772070-9b27-4774-a7f8-2c59ab6614e4",
   "metadata": {},
   "outputs": [
    {
     "data": {
      "text/plain": [
       "'hello world'"
      ]
     },
     "execution_count": 16,
     "metadata": {},
     "output_type": "execute_result"
    }
   ],
   "source": [
    "s=\"hello world\"\n",
    "s"
   ]
  },
  {
   "cell_type": "code",
   "execution_count": 11,
   "id": "8697d279-c491-4d54-bd2f-6a89dd4fb56a",
   "metadata": {},
   "outputs": [
    {
     "data": {
      "text/plain": [
       "'ineuron'"
      ]
     },
     "execution_count": 11,
     "metadata": {},
     "output_type": "execute_result"
    }
   ],
   "source": [
    "string=\"ineuron\"\n",
    "string"
   ]
  },
  {
   "cell_type": "code",
   "execution_count": 13,
   "id": "c6db2f25-d091-4f74-bf2b-74c7c9efa95f",
   "metadata": {},
   "outputs": [
    {
     "name": "stdout",
     "output_type": "stream",
     "text": [
      "ineuron Company \n"
     ]
    }
   ],
   "source": [
    "print(string + \" Company \")"
   ]
  },
  {
   "cell_type": "code",
   "execution_count": 17,
   "id": "18e4db02-ab17-40dd-b029-cb2b7a8c0657",
   "metadata": {},
   "outputs": [
    {
     "data": {
      "text/plain": [
       "'hello world concatenate me!'"
      ]
     },
     "execution_count": 17,
     "metadata": {},
     "output_type": "execute_result"
    }
   ],
   "source": [
    "s=s+\" concatenate me!\"\n",
    "s"
   ]
  },
  {
   "cell_type": "code",
   "execution_count": 19,
   "id": "130afa82-5045-4407-affa-57fd6d14886c",
   "metadata": {},
   "outputs": [
    {
     "name": "stdout",
     "output_type": "stream",
     "text": [
      "hello world\n"
     ]
    }
   ],
   "source": [
    "print(\"hello\" + \" world\")"
   ]
  },
  {
   "cell_type": "code",
   "execution_count": 23,
   "id": "192f81b1-9f1f-403b-b910-5678356e15fd",
   "metadata": {},
   "outputs": [
    {
     "name": "stdout",
     "output_type": "stream",
     "text": [
      "ineuronineuron\n"
     ]
    }
   ],
   "source": [
    "print(string *2)\n",
    "# print string two times using *operator\n",
    "# we can use the multiplication symbol to create repetition!"
   ]
  },
  {
   "cell_type": "code",
   "execution_count": 4,
   "id": "3f97b72e-146b-4f16-aa81-ee21817ec7a5",
   "metadata": {},
   "outputs": [],
   "source": [
    "# String length\n",
    "string=\"ineuron\""
   ]
  },
  {
   "cell_type": "code",
   "execution_count": 5,
   "id": "3c285d56-a2e1-4a35-9183-0a08cf255298",
   "metadata": {},
   "outputs": [
    {
     "data": {
      "text/plain": [
       "7"
      ]
     },
     "execution_count": 5,
     "metadata": {},
     "output_type": "execute_result"
    }
   ],
   "source": [
    "len(string)"
   ]
  },
  {
   "cell_type": "code",
   "execution_count": 6,
   "id": "04d05593-9a92-413c-90f1-9c10df619b35",
   "metadata": {},
   "outputs": [],
   "source": [
    "# find char/word in a string"
   ]
  },
  {
   "cell_type": "code",
   "execution_count": 7,
   "id": "bab28d87-a9a3-4e26-8b1c-08310f49e917",
   "metadata": {},
   "outputs": [
    {
     "data": {
      "text/plain": [
       "1"
      ]
     },
     "execution_count": 7,
     "metadata": {},
     "output_type": "execute_result"
    }
   ],
   "source": [
    "string.find(\"n\")"
   ]
  },
  {
   "cell_type": "code",
   "execution_count": 8,
   "id": "49554e3c-4815-4a93-a4ad-05ba5e9392da",
   "metadata": {},
   "outputs": [
    {
     "data": {
      "text/plain": [
       "-1"
      ]
     },
     "execution_count": 8,
     "metadata": {},
     "output_type": "execute_result"
    }
   ],
   "source": [
    "#if it is not able to find char/it will give index as -1\n",
    "string.find('x')"
   ]
  },
  {
   "cell_type": "code",
   "execution_count": 10,
   "id": "cc03afe5-f868-4e16-911a-87295e8d9038",
   "metadata": {},
   "outputs": [
    {
     "name": "stdout",
     "output_type": "stream",
     "text": [
      "0\n"
     ]
    }
   ],
   "source": [
    "# count char in a string\n",
    "print(string.count(' '))\n",
    "# to count no. of char in a string,can use count method"
   ]
  },
  {
   "cell_type": "code",
   "execution_count": 11,
   "id": "0a5fb8aa-1f35-4d5e-becd-684a1b44040f",
   "metadata": {},
   "outputs": [
    {
     "name": "stdout",
     "output_type": "stream",
     "text": [
      "2\n"
     ]
    }
   ],
   "source": [
    "print(string.count('n'))"
   ]
  },
  {
   "cell_type": "code",
   "execution_count": 12,
   "id": "ffded3e6-c22d-4469-88bb-a1c33b3d81fe",
   "metadata": {},
   "outputs": [],
   "source": [
    "# String split operation"
   ]
  },
  {
   "cell_type": "code",
   "execution_count": 13,
   "id": "41b2359b-05e6-46af-ba76-762f083da930",
   "metadata": {},
   "outputs": [
    {
     "name": "stdout",
     "output_type": "stream",
     "text": [
      "['ineuron']\n"
     ]
    }
   ],
   "source": [
    "# to split string at certain space/char,will return list of string after splitting\n",
    "print(string.split(' '))"
   ]
  },
  {
   "cell_type": "code",
   "execution_count": 14,
   "id": "6b1d69c4-02c6-41c5-826e-fe558ca6e3a3",
   "metadata": {},
   "outputs": [
    {
     "data": {
      "text/plain": [
       "['ine', 'ron']"
      ]
     },
     "execution_count": 14,
     "metadata": {},
     "output_type": "execute_result"
    }
   ],
   "source": [
    "string.split('u')"
   ]
  },
  {
   "cell_type": "code",
   "execution_count": 15,
   "id": "2d1e7a3a-3bc7-43e7-925a-2504d671f131",
   "metadata": {},
   "outputs": [],
   "source": [
    "#change string to upper &lower case"
   ]
  },
  {
   "cell_type": "code",
   "execution_count": 16,
   "id": "e5e4e39d-5b22-4560-9e2f-8adad89d684c",
   "metadata": {},
   "outputs": [],
   "source": [
    "#change to upper case"
   ]
  },
  {
   "cell_type": "code",
   "execution_count": 17,
   "id": "e74a1fe5-dec9-4dbf-a4c5-bb265e1c054e",
   "metadata": {},
   "outputs": [
    {
     "name": "stdout",
     "output_type": "stream",
     "text": [
      "INEURON\n"
     ]
    }
   ],
   "source": [
    "print(string.upper())"
   ]
  },
  {
   "cell_type": "code",
   "execution_count": 18,
   "id": "5f9927c4-8b87-42dc-9024-ead62f4fa42e",
   "metadata": {},
   "outputs": [
    {
     "name": "stdout",
     "output_type": "stream",
     "text": [
      "ineuron\n"
     ]
    }
   ],
   "source": [
    "#change to lower case\n",
    "print(string.lower())"
   ]
  },
  {
   "cell_type": "code",
   "execution_count": 19,
   "id": "80679d91-ee8b-4ba5-a7c2-994c2309b69c",
   "metadata": {},
   "outputs": [
    {
     "name": "stdout",
     "output_type": "stream",
     "text": [
      "INEURON\n"
     ]
    }
   ],
   "source": [
    "#swap case from lower to upper &upper to lower\n",
    "print(string.swapcase())"
   ]
  },
  {
   "cell_type": "code",
   "execution_count": 20,
   "id": "9912bb8b-ade8-488b-9c89-28a69eb49e8e",
   "metadata": {},
   "outputs": [
    {
     "name": "stdout",
     "output_type": "stream",
     "text": [
      "Ineuron\n"
     ]
    }
   ],
   "source": [
    "print(string.capitalize())"
   ]
  },
  {
   "cell_type": "code",
   "execution_count": 21,
   "id": "d1ecfefd-455b-4cae-9bf3-568b3e062d57",
   "metadata": {},
   "outputs": [
    {
     "name": "stdout",
     "output_type": "stream",
     "text": [
      "Ineuron\n"
     ]
    }
   ],
   "source": [
    "print(string.title())"
   ]
  },
  {
   "cell_type": "code",
   "execution_count": 22,
   "id": "5a293b4a-3d48-4344-83bb-923155d97234",
   "metadata": {},
   "outputs": [],
   "source": [
    "# reverse string"
   ]
  },
  {
   "cell_type": "code",
   "execution_count": 25,
   "id": "9e6fe499-a886-49e0-8111-d77c1031495e",
   "metadata": {},
   "outputs": [
    {
     "name": "stdout",
     "output_type": "stream",
     "text": [
      "n o r u e n i\n"
     ]
    }
   ],
   "source": [
    "print(\" \".join(reversed(string)))"
   ]
  },
  {
   "cell_type": "code",
   "execution_count": 27,
   "id": "5a5d5b1d-edb6-425a-937c-ca8f7f1ea14a",
   "metadata": {},
   "outputs": [
    {
     "name": "stdout",
     "output_type": "stream",
     "text": [
      "norueni\n"
     ]
    }
   ],
   "source": [
    "# also it can be done by using slice function\n",
    "# through we are reversing by using step size as -1\n",
    "print(string[::-1])"
   ]
  },
  {
   "cell_type": "code",
   "execution_count": 28,
   "id": "25c3cb39-7cd8-49c7-a7af-ef4b8b6d5295",
   "metadata": {},
   "outputs": [],
   "source": [
    "# remove char from the end of string"
   ]
  },
  {
   "cell_type": "code",
   "execution_count": 31,
   "id": "e657a72e-8d25-4400-a4e8-903c5a418c1f",
   "metadata": {},
   "outputs": [],
   "source": [
    "string_a=\" ineuron \""
   ]
  },
  {
   "cell_type": "code",
   "execution_count": 32,
   "id": "7da06af5-4d04-4bba-a7ee-7b0940e61f1f",
   "metadata": {},
   "outputs": [
    {
     "data": {
      "text/plain": [
       "' ineuron '"
      ]
     },
     "execution_count": 32,
     "metadata": {},
     "output_type": "execute_result"
    }
   ],
   "source": [
    "string_a"
   ]
  },
  {
   "cell_type": "code",
   "execution_count": 33,
   "id": "1043e733-0098-4121-ba85-860f161b62d1",
   "metadata": {},
   "outputs": [
    {
     "data": {
      "text/plain": [
       "'ineuron'"
      ]
     },
     "execution_count": 33,
     "metadata": {},
     "output_type": "execute_result"
    }
   ],
   "source": [
    "# strip will remove white space from the both end of the strings\n",
    "string_a.strip(\" \")"
   ]
  },
  {
   "cell_type": "code",
   "execution_count": 34,
   "id": "b28266b5-123c-4ba1-b7ad-c5ad43454003",
   "metadata": {},
   "outputs": [],
   "source": [
    "# removes leading character from a string"
   ]
  },
  {
   "cell_type": "code",
   "execution_count": 35,
   "id": "b308aa84-30e0-44f7-9c21-7e99b5f68187",
   "metadata": {},
   "outputs": [
    {
     "data": {
      "text/plain": [
       "'ineuron '"
      ]
     },
     "execution_count": 35,
     "metadata": {},
     "output_type": "execute_result"
    }
   ],
   "source": [
    "string_a.lstrip(\" \")"
   ]
  },
  {
   "cell_type": "code",
   "execution_count": 36,
   "id": "d5cdf8f5-17e5-4cdd-a6e4-ed167be08119",
   "metadata": {},
   "outputs": [
    {
     "data": {
      "text/plain": [
       "' ineuron'"
      ]
     },
     "execution_count": 36,
     "metadata": {},
     "output_type": "execute_result"
    }
   ],
   "source": [
    "# remove trailing char from a string\n",
    "string_a.rstrip(\" \")"
   ]
  },
  {
   "cell_type": "code",
   "execution_count": 1,
   "id": "efbf1b1a-f4f0-4b6b-8940-b17e6f8ea741",
   "metadata": {},
   "outputs": [],
   "source": [
    "# join operation in string"
   ]
  },
  {
   "cell_type": "code",
   "execution_count": 5,
   "id": "6e34a1eb-a699-40d9-bcdf-57a61ce51782",
   "metadata": {},
   "outputs": [
    {
     "data": {
      "text/plain": [
       "'W e l c o m e   t o   i n e u r o n'"
      ]
     },
     "execution_count": 5,
     "metadata": {},
     "output_type": "execute_result"
    }
   ],
   "source": [
    "\" \".join(\"Welcome to ineuron\")"
   ]
  },
  {
   "cell_type": "code",
   "execution_count": 6,
   "id": "ea2e184d-015f-438b-ab53-482b4e22922b",
   "metadata": {},
   "outputs": [],
   "source": [
    "#replace string"
   ]
  },
  {
   "cell_type": "code",
   "execution_count": 8,
   "id": "116bf340-686f-4272-9f49-7cbd2e801118",
   "metadata": {},
   "outputs": [
    {
     "data": {
      "text/plain": [
       "'greetings from ineuron'"
      ]
     },
     "execution_count": 8,
     "metadata": {},
     "output_type": "execute_result"
    }
   ],
   "source": [
    "string_n=\"greetings to ineuron\"\n",
    "string_n.replace(\"to\",\"from\")"
   ]
  },
  {
   "cell_type": "code",
   "execution_count": 9,
   "id": "217c4e47-391c-4462-a7bb-71068c40957e",
   "metadata": {},
   "outputs": [],
   "source": [
    "# formatting\n"
   ]
  },
  {
   "cell_type": "code",
   "execution_count": 10,
   "id": "de5f52be-58bc-4adb-bb73-630f0fa44f69",
   "metadata": {},
   "outputs": [],
   "source": [
    "#center() allows you to place your string centered between a provided string with a certain length"
   ]
  },
  {
   "cell_type": "code",
   "execution_count": 12,
   "id": "99bafa0e-43ae-4721-825f-87681dd27162",
   "metadata": {},
   "outputs": [],
   "source": [
    "string=\"ineuron\""
   ]
  },
  {
   "cell_type": "code",
   "execution_count": 13,
   "id": "4666853e-6123-4e6d-b59a-2b83e853e6cf",
   "metadata": {},
   "outputs": [
    {
     "data": {
      "text/plain": [
       "'zzzzzzineuronzzzzzzz'"
      ]
     },
     "execution_count": 13,
     "metadata": {},
     "output_type": "execute_result"
    }
   ],
   "source": [
    "string.center(20,'z')"
   ]
  },
  {
   "cell_type": "code",
   "execution_count": 14,
   "id": "ba606eef-466e-4f0e-9bd6-e37c38c4c9fa",
   "metadata": {},
   "outputs": [],
   "source": [
    "# expand tabs() will end tab notation\\t into spacees."
   ]
  },
  {
   "cell_type": "code",
   "execution_count": 15,
   "id": "387e4718-4651-41a3-b92a-c323321d6bd9",
   "metadata": {},
   "outputs": [
    {
     "data": {
      "text/plain": [
       "'hello   hi'"
      ]
     },
     "execution_count": 15,
     "metadata": {},
     "output_type": "execute_result"
    }
   ],
   "source": [
    "'hello\\thi'.expandtabs()"
   ]
  },
  {
   "cell_type": "code",
   "execution_count": 16,
   "id": "2d336e8a-e144-4d1a-af12-fce3e5052795",
   "metadata": {},
   "outputs": [],
   "source": [
    "#checking string caase"
   ]
  },
  {
   "cell_type": "code",
   "execution_count": 17,
   "id": "3b3186bd-4f21-44be-8bc7-210511094b84",
   "metadata": {},
   "outputs": [
    {
     "data": {
      "text/plain": [
       "False"
      ]
     },
     "execution_count": 17,
     "metadata": {},
     "output_type": "execute_result"
    }
   ],
   "source": [
    "# check if string are in upper case\n",
    "string.isupper()"
   ]
  },
  {
   "cell_type": "code",
   "execution_count": 18,
   "id": "8f49dc9c-4181-4856-99de-020b7b169a8e",
   "metadata": {},
   "outputs": [
    {
     "data": {
      "text/plain": [
       "True"
      ]
     },
     "execution_count": 18,
     "metadata": {},
     "output_type": "execute_result"
    }
   ],
   "source": [
    "#check if string are in lower case\n",
    "string.islower()"
   ]
  },
  {
   "cell_type": "code",
   "execution_count": 20,
   "id": "eb96d411-8ed0-4d61-a824-cfedae9c18b8",
   "metadata": {},
   "outputs": [
    {
     "data": {
      "text/plain": [
       "False"
      ]
     },
     "execution_count": 20,
     "metadata": {},
     "output_type": "execute_result"
    }
   ],
   "source": [
    "#check if string contains space\n",
    "string.isspace()"
   ]
  },
  {
   "cell_type": "code",
   "execution_count": 21,
   "id": "944fc778-42e1-4e7c-8aa0-1a8064f86d33",
   "metadata": {},
   "outputs": [
    {
     "data": {
      "text/plain": [
       "False"
      ]
     },
     "execution_count": 21,
     "metadata": {},
     "output_type": "execute_result"
    }
   ],
   "source": [
    "# check if string contains digit\n",
    "string.isdigit()"
   ]
  },
  {
   "cell_type": "code",
   "execution_count": 24,
   "id": "bc641fb0-2dad-4c4e-9586-42b799c263f0",
   "metadata": {},
   "outputs": [
    {
     "name": "stdout",
     "output_type": "stream",
     "text": [
      "True\n"
     ]
    }
   ],
   "source": [
    "# check if string endswith character n\n",
    "print(string.endswith('n'))"
   ]
  },
  {
   "cell_type": "code",
   "execution_count": 26,
   "id": "73e7258b-eee7-401f-8fce-0adc6d9e9f57",
   "metadata": {},
   "outputs": [
    {
     "data": {
      "text/plain": [
       "True"
      ]
     },
     "execution_count": 26,
     "metadata": {},
     "output_type": "execute_result"
    }
   ],
   "source": [
    "# check if string starts with character n\n",
    "string.startswith('i')"
   ]
  },
  {
   "cell_type": "code",
   "execution_count": 27,
   "id": "ff450b4d-bed0-4522-a26e-8251e75f495e",
   "metadata": {},
   "outputs": [
    {
     "data": {
      "text/plain": [
       "True"
      ]
     },
     "execution_count": 27,
     "metadata": {},
     "output_type": "execute_result"
    }
   ],
   "source": [
    "#check if all char is string are alphanumeric\n",
    "a=\"abcd1234\"\n",
    "a.isalnum()"
   ]
  },
  {
   "cell_type": "code",
   "execution_count": 28,
   "id": "9b737946-5961-45a4-b520-5e652d8a8921",
   "metadata": {},
   "outputs": [
    {
     "data": {
      "text/plain": [
       "True"
      ]
     },
     "execution_count": 28,
     "metadata": {},
     "output_type": "execute_result"
    }
   ],
   "source": [
    "# test if string contain title words\n",
    "a=\"Abcdef\"\n",
    "a.istitle()"
   ]
  },
  {
   "cell_type": "code",
   "execution_count": 29,
   "id": "743cd7e6-e39d-4e83-a3b8-d02cc3022946",
   "metadata": {},
   "outputs": [],
   "source": [
    "#iterate through a string"
   ]
  },
  {
   "cell_type": "code",
   "execution_count": 30,
   "id": "4c28ee68-8eec-4675-808e-8c82d7b1fe1c",
   "metadata": {},
   "outputs": [
    {
     "name": "stdout",
     "output_type": "stream",
     "text": [
      "22 letters found\n"
     ]
    }
   ],
   "source": [
    "count=0\n",
    "for ch in 'Greetings from iNeuron' :\n",
    "    count+=1\n",
    "print(count,'letters found')"
   ]
  },
  {
   "cell_type": "code",
   "execution_count": 31,
   "id": "9cc44304-7183-42a4-b718-dbcb53791e0e",
   "metadata": {},
   "outputs": [
    {
     "data": {
      "text/plain": [
       "22"
      ]
     },
     "execution_count": 31,
     "metadata": {},
     "output_type": "execute_result"
    }
   ],
   "source": [
    "len(\"Greetings fron ineuron\")"
   ]
  },
  {
   "cell_type": "code",
   "execution_count": 33,
   "id": "e950612d-478a-4b7a-935f-8c4088ea3025",
   "metadata": {},
   "outputs": [
    {
     "name": "stdout",
     "output_type": "stream",
     "text": [
      "i\n",
      "N\n",
      "e\n",
      "u\n",
      "r\n",
      "o\n",
      "n\n"
     ]
    }
   ],
   "source": [
    "# using range() ti uterating through a string\n",
    "string = \"iNeuron\"\n",
    "for ch in range(len(string)):\n",
    "    print(string[ch])"
   ]
  },
  {
   "cell_type": "code",
   "execution_count": 34,
   "id": "64ee6fb1-5b98-470f-a6f8-bfac0d04f899",
   "metadata": {},
   "outputs": [
    {
     "name": "stdout",
     "output_type": "stream",
     "text": [
      "n\n",
      "o\n",
      "r\n",
      "u\n",
      "e\n",
      "n\n",
      "i\n"
     ]
    }
   ],
   "source": [
    "# we can use index to iterate string reverse direction\n",
    "string=\"ineuron\"\n",
    "ch=len(string)-1\n",
    "while ch>=0:\n",
    "    print(string[ch])\n",
    "    ch-=1"
   ]
  },
  {
   "cell_type": "code",
   "execution_count": 36,
   "id": "5dce9dfb-79bd-4459-9566-787bc1e2092c",
   "metadata": {},
   "outputs": [
    {
     "name": "stdout",
     "output_type": "stream",
     "text": [
      "i is a vowel\n",
      "n is not a vowel\n",
      "e is a vowel\n",
      "u is a vowel\n",
      "r is not a vowel\n",
      "o is a vowel\n",
      "n is not a vowel\n"
     ]
    }
   ],
   "source": [
    "name=\"ineuron\"\n",
    "vowels=\"AaEeIiOoUu\"\n",
    "for ch in name:\n",
    "    if ch in vowels:\n",
    "        print(\"{} is a vowel\".format(ch))\n",
    "    else:\n",
    "        print(\"{} is not a vowel\".format(ch))"
   ]
  },
  {
   "cell_type": "code",
   "execution_count": 39,
   "id": "75dd31b1-4191-4238-b058-9a452b5d67c1",
   "metadata": {},
   "outputs": [
    {
     "name": "stdout",
     "output_type": "stream",
     "text": [
      "Yes string is palindrome\n"
     ]
    }
   ],
   "source": [
    "''' We will see famous palindrome program. String is called palindrom if we reverse the string then\n",
    "    original and reversed string are same or not.\n",
    "    function to check string is  \n",
    "    palindrome or not  \n",
    "'''\n",
    "def palindrome_check(str):\n",
    "    #looping from 0 to len(str)/2\n",
    "    for i in range(0, int(len(str)/2)):\n",
    "        if str[i] != str[len(str)-i-1]:\n",
    "            return False\n",
    "    return True\n",
    "s=\"malayalam\"\n",
    "res=palindrome_check(s)\n",
    "\n",
    "if (res):\n",
    "    print(\"Yes string is palindrome\")\n",
    "else:\n",
    "    print(\"No string is not palindrome\")"
   ]
  },
  {
   "cell_type": "code",
   "execution_count": null,
   "id": "2e5fb4d2-3992-495f-a972-9d9814d9b5b4",
   "metadata": {},
   "outputs": [],
   "source": []
  }
 ],
 "metadata": {
  "kernelspec": {
   "display_name": "Python 3 (ipykernel)",
   "language": "python",
   "name": "python3"
  },
  "language_info": {
   "codemirror_mode": {
    "name": "ipython",
    "version": 3
   },
   "file_extension": ".py",
   "mimetype": "text/x-python",
   "name": "python",
   "nbconvert_exporter": "python",
   "pygments_lexer": "ipython3",
   "version": "3.10.8"
  }
 },
 "nbformat": 4,
 "nbformat_minor": 5
}
