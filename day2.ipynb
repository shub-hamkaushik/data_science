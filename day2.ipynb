{
 "cells": [
  {
   "cell_type": "markdown",
   "id": "0524f872-6446-4cd1-8583-5d39a77f8ad1",
   "metadata": {},
   "source": [
    "# Control Flow"
   ]
  },
  {
   "cell_type": "markdown",
   "id": "7125441f-3420-42a9-a887-1c85d58b03c5",
   "metadata": {},
   "source": [
    "\n",
    "# if\n",
    "## if else\n",
    "## if elif else\n",
    "## Nested if\n",
    "## Single Statement Suites"
   ]
  },
  {
   "cell_type": "code",
   "execution_count": 3,
   "id": "72852bee-756a-43e0-a3df-6fe494c74f0a",
   "metadata": {},
   "outputs": [
    {
     "name": "stdout",
     "output_type": "stream",
     "text": [
      "value is less than given\n"
     ]
    }
   ],
   "source": [
    "# if statement\n",
    "\n",
    "val=30\n",
    "if val<40:\n",
    "   print('value is less than given')"
   ]
  },
  {
   "cell_type": "code",
   "execution_count": 4,
   "id": "ee1b9852-cfde-4d34-b1af-3625641ce915",
   "metadata": {},
   "outputs": [],
   "source": [
    "# if else statement"
   ]
  },
  {
   "cell_type": "code",
   "execution_count": 8,
   "id": "c8882207-6c8b-43b4-a85a-4ceb80595869",
   "metadata": {},
   "outputs": [
    {
     "name": "stdin",
     "output_type": "stream",
     "text": [
      "Price:  500\n"
     ]
    },
    {
     "name": "stdout",
     "output_type": "stream",
     "text": [
      "Discount Rupess: 50.0\n",
      "Net Payable amount:  450.0\n"
     ]
    }
   ],
   "source": [
    "Total_Price=int(input(\"Price: \"))\n",
    "if Total_Price<100:\n",
    "    discount=Total_Price*0.04\n",
    "    print(\"Discount Rupess: \"+str(discount))\n",
    "else:\n",
    "    discount=Total_Price*0.1\n",
    "    print(\"Discount Rupess: \"+str(discount))\n",
    "print(\"Net Payable amount: \",Total_Price-discount)"
   ]
  },
  {
   "cell_type": "code",
   "execution_count": 9,
   "id": "c4761bcd-4eae-44a4-bc2b-97f21c35520b",
   "metadata": {},
   "outputs": [],
   "source": [
    "# if-elif-else statement"
   ]
  },
  {
   "cell_type": "code",
   "execution_count": null,
   "id": "05a54af4-468d-422e-9205-55cd43eb4cd2",
   "metadata": {},
   "outputs": [],
   "source": []
  },
  {
   "cell_type": "code",
   "execution_count": 1,
   "id": "b4e3d897-900c-4e91-8ec0-51409deb2766",
   "metadata": {},
   "outputs": [
    {
     "name": "stdin",
     "output_type": "stream",
     "text": [
      "Price:  500\n"
     ]
    },
    {
     "name": "stdout",
     "output_type": "stream",
     "text": [
      "Discount Rupess: 50.0\n",
      "Net Payable Amount:  450.0\n"
     ]
    }
   ],
   "source": [
    "Total_Price=int(input(\"Price: \"))\n",
    "if Total_Price<100:\n",
    "    discount=Total_Price*0.04\n",
    "    print(\"Discount Rupess: \"+str(discount))\n",
    "elif Total_Price<500:\n",
    "    discount=Total_Price*0.08\n",
    "    print(\"Discount Rupess: \"+str(discount))\n",
    "else:\n",
    "    discount=Total_Price*0.1\n",
    "    print(\"Discount Rupess: \"+str(discount))\n",
    "print(\"Net Payable Amount: \",Total_Price-discount)"
   ]
  },
  {
   "cell_type": "code",
   "execution_count": 2,
   "id": "3ee94102-519c-476d-ad2a-c49990b1e93b",
   "metadata": {},
   "outputs": [
    {
     "name": "stdout",
     "output_type": "stream",
     "text": [
      "The value of a:  50\n"
     ]
    }
   ],
   "source": [
    "a=50\n",
    "print('The value of a: ',a)"
   ]
  },
  {
   "cell_type": "markdown",
   "id": "2b18b41a-6ba7-491c-ad50-e3ca57802780",
   "metadata": {},
   "source": [
    "# Nested if statement"
   ]
  },
  {
   "cell_type": "code",
   "execution_count": 3,
   "id": "c9de9abb-4deb-4653-a671-b80028fb507e",
   "metadata": {},
   "outputs": [
    {
     "name": "stdin",
     "output_type": "stream",
     "text": [
      "Enter a number -20\n"
     ]
    },
    {
     "name": "stdout",
     "output_type": "stream",
     "text": [
      "Entered number is negative\n"
     ]
    }
   ],
   "source": [
    "val = float(input(\"Enter a number\"))\n",
    "if val>=0:\n",
    "    if val==0:\n",
    "        print(\"zero\")\n",
    "    else:\n",
    "        print(\"Entered number is positive\")\n",
    "else:\n",
    "    print(\"Entered number is negative\")"
   ]
  },
  {
   "cell_type": "markdown",
   "id": "a46add45-0a6b-4567-bacf-09f9e3894327",
   "metadata": {},
   "source": [
    "## Single statement suites"
   ]
  },
  {
   "cell_type": "code",
   "execution_count": 5,
   "id": "be2dc394-e09d-4442-a3db-c0353b451c59",
   "metadata": {},
   "outputs": [
    {
     "name": "stdin",
     "output_type": "stream",
     "text": [
      "Enter a number:  900\n"
     ]
    },
    {
     "name": "stdout",
     "output_type": "stream",
     "text": [
      "value is less than equal to 999\n",
      "Good Bye!\n"
     ]
    }
   ],
   "source": [
    "val=int(input(\"Enter a number: \"))\n",
    "if (val<=999):print(\"value is less than equal to 999\")\n",
    "print(\"Good Bye!\")"
   ]
  },
  {
   "cell_type": "markdown",
   "id": "cfcce368-fe4f-40d8-9736-bcf4319e53b1",
   "metadata": {},
   "source": [
    "## loops\n",
    "### while\n",
    " ### for\n",
    " ### nested\n",
    " ### loop control\n",
    "  ### break\n",
    "  ### continue\n",
    "  ### pass"
   ]
  },
  {
   "cell_type": "markdown",
   "id": "3eb0b196-7009-42a2-9e0a-48fcdd96845d",
   "metadata": {},
   "source": [
    "## While loop"
   ]
  },
  {
   "cell_type": "code",
   "execution_count": 8,
   "id": "e240f688-23c0-4632-894d-1e6f180ebc3a",
   "metadata": {},
   "outputs": [
    {
     "name": "stdout",
     "output_type": "stream",
     "text": [
      "1\n",
      "2\n",
      "3\n",
      "4\n",
      "5\n",
      "Total Money:  50 Rupees\n"
     ]
    }
   ],
   "source": [
    "''' A child is learning to count number of 10 rupess in his hand \n",
    "and here we have given 5 notes of 10 rupess. \n",
    "Output will display the counting of notes and total amount'''\n",
    "notes =5\n",
    "i=1 #starting number\n",
    "while i<=notes:\n",
    "    print(i)\n",
    "    i+=1\n",
    "print(\"Total Money: \",notes*10,'Rupees')"
   ]
  },
  {
   "cell_type": "code",
   "execution_count": 9,
   "id": "c8042529-9675-4f3d-b888-f905c08c0547",
   "metadata": {},
   "outputs": [],
   "source": [
    "# else combination with while"
   ]
  },
  {
   "cell_type": "code",
   "execution_count": 10,
   "id": "5a885348-108b-4d94-9bca-dc8272ee7d3b",
   "metadata": {},
   "outputs": [
    {
     "name": "stdout",
     "output_type": "stream",
     "text": [
      "1\n",
      "2\n",
      "3\n",
      "4\n",
      "5\n",
      "No 10 rupees note left\n",
      "Total Money:  50 Rupees\n"
     ]
    }
   ],
   "source": [
    "notes=5\n",
    "i=1\n",
    "while i<=notes:\n",
    "    print(i)\n",
    "    i+=1\n",
    "else:\n",
    "    print(\"No 10 rupees note left\")\n",
    "print(\"Total Money: \",notes*10,'Rupees')"
   ]
  },
  {
   "cell_type": "code",
   "execution_count": 11,
   "id": "b773e95b-74a3-485d-a1e4-2a22b1d9767d",
   "metadata": {},
   "outputs": [],
   "source": [
    "# LIST"
   ]
  },
  {
   "cell_type": "code",
   "execution_count": 13,
   "id": "31e4a6f3-5e51-4161-a322-821c9debab1b",
   "metadata": {},
   "outputs": [
    {
     "name": "stdout",
     "output_type": "stream",
     "text": [
      "Mango\n",
      "Cherry\n",
      "Apple\n",
      "Papya\n",
      "Banana\n"
     ]
    }
   ],
   "source": [
    "frits_list=['Mango','Cherry','Apple','Papya','Banana']\n",
    "for x in frits_list:\n",
    "    print (x)"
   ]
  },
  {
   "cell_type": "code",
   "execution_count": 14,
   "id": "8c901624-703d-45fd-933b-c1f9042ae7a5",
   "metadata": {},
   "outputs": [
    {
     "name": "stdout",
     "output_type": "stream",
     "text": [
      "Mango\n",
      "Cherry\n",
      "Apple\n",
      "Papya\n",
      "Banana\n",
      "List has no fruit left!\n"
     ]
    }
   ],
   "source": [
    "frits_list=['Mango','Cherry','Apple','Papya','Banana']\n",
    "for x in frits_list:\n",
    "    print (x)\n",
    "else:\n",
    "    print(\"List has no fruit left!\")"
   ]
  },
  {
   "cell_type": "code",
   "execution_count": 15,
   "id": "8731e632-ada5-488a-9405-7c691c6a7171",
   "metadata": {},
   "outputs": [],
   "source": [
    "# string example"
   ]
  },
  {
   "cell_type": "code",
   "execution_count": 16,
   "id": "0de56edc-b898-4deb-9602-ead9e9e375d7",
   "metadata": {},
   "outputs": [
    {
     "name": "stdout",
     "output_type": "stream",
     "text": [
      "M\n",
      "a\n",
      "n\n",
      "g\n",
      "o\n"
     ]
    }
   ],
   "source": [
    "f_name=\"Mango\"\n",
    "for x in f_name:\n",
    "    print(x)"
   ]
  },
  {
   "cell_type": "markdown",
   "id": "b66934da-7f66-40a7-98b8-041ed326ccba",
   "metadata": {},
   "source": [
    "# nested loop"
   ]
  },
  {
   "cell_type": "code",
   "execution_count": 17,
   "id": "f092b7b4-456f-4052-8fcb-86fad74c4f7e",
   "metadata": {},
   "outputs": [],
   "source": [
    "#e.g to print a pattern"
   ]
  },
  {
   "cell_type": "code",
   "execution_count": 20,
   "id": "4094898c-29bd-4a0b-b122-72a74d12ce15",
   "metadata": {},
   "outputs": [
    {
     "name": "stdout",
     "output_type": "stream",
     "text": [
      "*\n",
      "**\n",
      "***\n",
      "****\n",
      "*****\n",
      "******\n",
      "*******\n"
     ]
    }
   ],
   "source": [
    "n=7 #n is width and length of triangle\n",
    "for i in range(0,n): #loop to hanlde the rows\n",
    "    for j in range(0,i+1):#loop to handle columns\n",
    "        print(\"*\",end=\"\")# printing the stars\n",
    "    print(\"\\r\") #after each row will be end"
   ]
  },
  {
   "cell_type": "code",
   "execution_count": 21,
   "id": "ff2289b0-3265-43fc-a33e-a124ff97a885",
   "metadata": {},
   "outputs": [],
   "source": [
    "# pyramid structure"
   ]
  },
  {
   "cell_type": "code",
   "execution_count": 31,
   "id": "ecc73a9b-5902-4448-ad88-d7eb07c01b7b",
   "metadata": {},
   "outputs": [
    {
     "name": "stdin",
     "output_type": "stream",
     "text": [
      "Enter the no of rows:  5\n"
     ]
    },
    {
     "name": "stdout",
     "output_type": "stream",
     "text": [
      "    *\n",
      "   ***\n",
      "  *****\n",
      " *******\n",
      "*********\n"
     ]
    }
   ],
   "source": [
    "num_rows= int(input(\"Enter the no of rows: \"))\n",
    "row = 0\n",
    "while(row<num_rows):\n",
    "    row += 1\n",
    "    s = num_rows-row\n",
    "    \n",
    "    sc=0\n",
    "    while(sc<s):\n",
    "        print(\" \", end='')\n",
    "        sc+=1\n",
    "        \n",
    "    stars=2*row-1\n",
    "    while(stars>0):\n",
    "        print(\"*\",end='')\n",
    "        stars-=1\n",
    "    print()\n",
    "    "
   ]
  },
  {
   "cell_type": "code",
   "execution_count": 24,
   "id": "f1ec5900-bcc5-4a24-975c-a2adddf0f9de",
   "metadata": {},
   "outputs": [
    {
     "name": "stdin",
     "output_type": "stream",
     "text": [
      "Enter the number of rows:  5\n"
     ]
    },
    {
     "name": "stdout",
     "output_type": "stream",
     "text": [
      "    *\n",
      "   ***\n",
      "  *****\n",
      " *******\n",
      "*********\n"
     ]
    }
   ],
   "source": [
    "num_rows = int(input(\"Enter the number of rows: \"))\n",
    "row = 0 #row intialize\n",
    "while(row < num_rows):\n",
    "    row += 1 #Rows count increase\n",
    "    s = num_rows - row #Spaces\n",
    "\n",
    "    sc = 0 #Space counter intialize\n",
    "    while(sc < s):\n",
    "        print(\" \", end='')\n",
    "        sc += 1\n",
    "\n",
    "    stars = 2*row-1 #Number of stars\n",
    "    while(stars > 0):\n",
    "        print(\"*\", end='')\n",
    "        stars -= 1\n",
    "\n",
    "    print()"
   ]
  },
  {
   "cell_type": "code",
   "execution_count": 32,
   "id": "368e73b0-67b8-4a4a-a2af-64476cbd0949",
   "metadata": {},
   "outputs": [],
   "source": [
    "# Loop control"
   ]
  },
  {
   "cell_type": "code",
   "execution_count": 33,
   "id": "d96a36fd-a5a8-42da-9af0-0ca487a95d9b",
   "metadata": {},
   "outputs": [
    {
     "name": "stdout",
     "output_type": "stream",
     "text": [
      "1\n",
      "2\n",
      "3\n",
      "4\n"
     ]
    }
   ],
   "source": [
    "x=1\n",
    "while x <7:\n",
    "    print(x)\n",
    "    if x==4:\n",
    "        break\n",
    "    x+=1"
   ]
  },
  {
   "cell_type": "code",
   "execution_count": 34,
   "id": "31e41b97-ce01-4def-861e-960408e5aca8",
   "metadata": {},
   "outputs": [
    {
     "name": "stdout",
     "output_type": "stream",
     "text": [
      "Mango\n",
      "Cherry\n",
      "Apple\n"
     ]
    }
   ],
   "source": [
    "frits_list= [\"Mango\",\"Cherry\",\"Apple\",\"Papaya\",\"Banana\"]\n",
    "for x in frits_list:\n",
    "    if x==\"Papaya\":\n",
    "        break\n",
    "    print(x)"
   ]
  },
  {
   "cell_type": "code",
   "execution_count": 35,
   "id": "8db6662a-c1a6-4004-bc9b-9d302c82b091",
   "metadata": {},
   "outputs": [
    {
     "name": "stdout",
     "output_type": "stream",
     "text": [
      "1\n",
      "2\n",
      "3\n",
      "5\n",
      "6\n",
      "7\n"
     ]
    }
   ],
   "source": [
    "x=0\n",
    "while x<7:\n",
    "    x+=1\n",
    "    if x==4:\n",
    "        continue\n",
    "    print(x)"
   ]
  },
  {
   "cell_type": "code",
   "execution_count": 36,
   "id": "75945eb1-6d0e-4cfa-8324-bf383fdf7279",
   "metadata": {},
   "outputs": [
    {
     "name": "stdout",
     "output_type": "stream",
     "text": [
      "Mango\n",
      "Cherry\n",
      "Apple\n",
      "Banana\n"
     ]
    }
   ],
   "source": [
    "frits_list= [\"Mango\",\"Cherry\",\"Apple\",\"Papaya\",\"Banana\"]\n",
    "for x in frits_list:\n",
    "    if x==\"Papaya\":\n",
    "        continue\n",
    "    print(x)"
   ]
  },
  {
   "cell_type": "code",
   "execution_count": 1,
   "id": "b8dec680-3c64-4ac3-8bab-2069054e072c",
   "metadata": {},
   "outputs": [
    {
     "name": "stdout",
     "output_type": "stream",
     "text": [
      "Value\n",
      "84\n"
     ]
    }
   ],
   "source": [
    "val=84\n",
    "if val:\n",
    "    print(\"Value\")\n",
    "    print(val)"
   ]
  },
  {
   "cell_type": "code",
   "execution_count": null,
   "id": "f5b27041-c15a-4613-81c5-2a27995da5c8",
   "metadata": {},
   "outputs": [],
   "source": []
  },
  {
   "cell_type": "code",
   "execution_count": null,
   "id": "68ed49fe-8c5e-4b9a-95f9-7054f4a1a9ad",
   "metadata": {},
   "outputs": [],
   "source": []
  },
  {
   "cell_type": "code",
   "execution_count": null,
   "id": "910f8812-76be-41e0-ae64-15cae8741047",
   "metadata": {},
   "outputs": [],
   "source": []
  }
 ],
 "metadata": {
  "kernelspec": {
   "display_name": "Python 3 (ipykernel)",
   "language": "python",
   "name": "python3"
  },
  "language_info": {
   "codemirror_mode": {
    "name": "ipython",
    "version": 3
   },
   "file_extension": ".py",
   "mimetype": "text/x-python",
   "name": "python",
   "nbconvert_exporter": "python",
   "pygments_lexer": "ipython3",
   "version": "3.10.8"
  }
 },
 "nbformat": 4,
 "nbformat_minor": 5
}
